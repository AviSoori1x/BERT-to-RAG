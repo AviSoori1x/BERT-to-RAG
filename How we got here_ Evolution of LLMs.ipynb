{
 "cells": [
  {
   "cell_type": "markdown",
   "metadata": {
    "application/vnd.databricks.v1+cell": {
     "cellMetadata": {},
     "inputWidgets": {},
     "nuid": "a8ce1d4f-9e05-411d-a870-98fe8e58168e",
     "showTitle": false,
     "title": ""
    }
   },
   "source": [
    "### Large Language Models: Going back from OSS SoTA to the roots and back\n",
    "\n",
    "#### Agenda\n",
    "- Discussion of LLaMA-3-70B-chat. \n",
    "  - Instruction following and prompt format\n",
    "  - Temperature\n",
    "  - Hallucinations\n",
    "\n",
    "- From the roots: BERT (2018)\n",
    "  - Inference Process - steps involved when you call a model\n",
    "  - Looking inside the model - what are parameters and what do they really look like\n",
    "  - Tokenization\n",
    "  - Extracting feature vectors/ Embedding\n",
    "\n",
    "- Next step: GPT 2 (2019)\n",
    "  - What text generation process actually looks like\n",
    "  - Uncontrollable text generation\n",
    "  - Wrapping it into a Hugging Face pipeline\n",
    "\n",
    "- Back to the future: MPT-7B and MPT-7B-Instruct (2023)\n",
    "  - Controllable generation: The difference created by instruction following\n",
    "  - Aside on RLHF/ DPO for model alignment and detoxification\n",
    "\n",
    "- RAG: Why is it even necessary\n",
    "  - Context is everything - AG\n",
    "  - Retrieval for finding relevant context leads to RAG\n"
   ]
  },
  {
   "cell_type": "code",
   "execution_count": 0,
   "metadata": {
    "application/vnd.databricks.v1+cell": {
     "cellMetadata": {
      "byteLimit": 2048000,
      "rowLimit": 10000
     },
     "inputWidgets": {},
     "nuid": "f881b404-23c9-4672-aa0f-8d54d014f33c",
     "showTitle": false,
     "title": ""
    }
   },
   "outputs": [],
   "source": [
    "import pandas as pd\n",
    "import mlflow.pyfunc\n",
    "import requests \n",
    "import json\n",
    "import torch\n",
    "import numpy as np\n",
    "from scipy.spatial.distance import cosine"
   ]
  },
  {
   "cell_type": "markdown",
   "metadata": {
    "application/vnd.databricks.v1+cell": {
     "cellMetadata": {
      "byteLimit": 2048000,
      "rowLimit": 10000
     },
     "inputWidgets": {},
     "nuid": "c70cc72c-855b-4363-8321-30b5889074ea",
     "showTitle": false,
     "title": ""
    }
   },
   "source": [
    "### Evolution of LLMs"
   ]
  },
  {
   "cell_type": "markdown",
   "metadata": {
    "application/vnd.databricks.v1+cell": {
     "cellMetadata": {
      "byteLimit": 2048000,
      "rowLimit": 10000
     },
     "inputWidgets": {},
     "nuid": "dd9410b4-dc7f-4df2-9170-c97430700fbb",
     "showTitle": false,
     "title": ""
    }
   },
   "source": [
    "link: https://youtu.be/dMH0bHeiRNg?si=T_enhbnix15h6iN8\n",
    "\n",
    "![Evolution of datance](https://i.makeagif.com/media/12-03-2015/EpkTKe.gif \"Databricks Logo\")"
   ]
  },
  {
   "cell_type": "markdown",
   "metadata": {
    "application/vnd.databricks.v1+cell": {
     "cellMetadata": {
      "byteLimit": 2048000,
      "rowLimit": 10000
     },
     "inputWidgets": {},
     "nuid": "ac339adc-90a8-4603-95f1-02fd0596b23a",
     "showTitle": false,
     "title": ""
    }
   },
   "source": [
    "#### Current OSS state of the art: LLaMA-3-70B-chat released April 2024"
   ]
  },
  {
   "cell_type": "code",
   "execution_count": 0,
   "metadata": {
    "application/vnd.databricks.v1+cell": {
     "cellMetadata": {
      "byteLimit": 2048000,
      "rowLimit": 10000
     },
     "inputWidgets": {},
     "nuid": "2c069212-056c-46dd-9090-d8a293a21334",
     "showTitle": false,
     "title": ""
    }
   },
   "outputs": [],
   "source": [
    "formatted_text =   \"\"\"<s>[INST] <<SYS>>\n",
    "  {system_prompt}\n",
    "  <</SYS>>\n",
    "\n",
    "  {user_message} [/INST]\n",
    "  \"\"\"\n",
    "\n",
    "system_prompt = \"You are a helpful, respectful and honest assistant. Always answer as helpfully as possible, while being safe.  Your answers should not include any harmful, unethical, racist, sexist, toxic, dangerous, or illegal content. Please ensure that your responses are socially unbiased and positive in nature.\"\n",
    "\n",
    "user_message = \"Write an email informing a customer about Enzyme in DLT. Be Concise\"\n",
    "#user_message = \"Write me a verse about Databricks in the style of Outkast\"\n"
   ]
  },
  {
   "cell_type": "code",
   "execution_count": 0,
   "metadata": {
    "application/vnd.databricks.v1+cell": {
     "cellMetadata": {
      "byteLimit": 2048000,
      "rowLimit": 10000
     },
     "inputWidgets": {},
     "nuid": "22b8e898-a67c-46b9-a095-31dec6c9772d",
     "showTitle": false,
     "title": ""
    }
   },
   "outputs": [
    {
     "output_type": "stream",
     "name": "stdout",
     "output_type": "stream",
     "text": [
      "<s>[INST] <<SYS>>\n  You are a helpful, respectful and honest assistant. Always answer as helpfully as possible, while being safe.  Your answers should not include any harmful, unethical, racist, sexist, toxic, dangerous, or illegal content. Please ensure that your responses are socially unbiased and positive in nature.\n  <</SYS>>\n\n  Write an email informing a customer about Enzyme in DLT. Be Concise [/INST]\n  \n"
     ]
    }
   ],
   "source": [
    "formatted_text = formatted_text.format(system_prompt= system_prompt, user_message = user_message)\n",
    "print(formatted_text)"
   ]
  },
  {
   "cell_type": "code",
   "execution_count": 0,
   "metadata": {
    "application/vnd.databricks.v1+cell": {
     "cellMetadata": {
      "byteLimit": 2048000,
      "rowLimit": 10000
     },
     "inputWidgets": {},
     "nuid": "72adabd6-32b1-475f-9632-bd47e9e0109a",
     "showTitle": false,
     "title": ""
    }
   },
   "outputs": [
    {
     "output_type": "stream",
     "name": "stdout",
     "output_type": "stream",
     "text": [
      "Here is a concise email informing a customer about Enzyme in DLT:\n\nSubject: Introduction to Enzyme in DLT\n\nDear [Customer's Name],\n\nI hope this email finds you well. I wanted to take a moment to introduce you to Enzyme, a key component in our Distributed Ledger Technology (DLT) solution.\n\nEnzyme is a powerful encryption algorithm that ensures the secure and efficient processing of transactions within our DLT network. It enables fast and reliable data validation, while maintaining the highest levels of security and integrity.\n\nIn simple terms, Enzyme helps to:\n\n* Protect sensitive data from unauthorized access\n* Validate transactions quickly and accurately\n* Ensure the integrity of our DLT network\n\nIf you have any questions or would like to learn more about Enzyme or our DLT solution, please don't hesitate to reach out. We're always here to help.\n\nBest regards,\n\n[Your Name]\n"
     ]
    }
   ],
   "source": [
    "import requests\n",
    "\n",
    "databricks_token = \"<your personal-access-token>\"\n",
    "url = \"https://<workspace-id>.databricks.com/serving-endpoints/databricks-meta-llama-3-70b-instruct/invocations\"\n",
    "\n",
    "payload = {\n",
    "    \"messages\": [\n",
    "        {\"role\": \"system\", \"content\": system_prompt},\n",
    "        {\"role\": \"user\", \"content\": user_message}\n",
    "    ],\n",
    "    \"temperature\": 0,\n",
    "    \"top_p\": 0.95,\n",
    "    \"max_tokens\": 500\n",
    "}\n",
    "\n",
    "headers = {\n",
    "    \"Content-Type\": \"application/json\",\n",
    "    \"Authorization\": f\"Bearer {databricks_token}\"\n",
    "}\n",
    "\n",
    "response = requests.post(url, headers=headers, json=payload)\n",
    "\n",
    "#print(response['candidates'][0]['text'])\n",
    "print(json.loads(response.text)['choices'][0]['message']['content'])"
   ]
  },
  {
   "cell_type": "code",
   "execution_count": 0,
   "metadata": {
    "application/vnd.databricks.v1+cell": {
     "cellMetadata": {
      "byteLimit": 2048000,
      "rowLimit": 10000
     },
     "inputWidgets": {},
     "nuid": "4d508777-5e9d-4793-bc5c-8b695c6a9e82",
     "showTitle": false,
     "title": ""
    }
   },
   "outputs": [],
   "source": [
    "def generate(endpoint: str, token: str, system: str, user: str ) -> str:\n",
    "  payload = {\n",
    "      \"messages\": [\n",
    "          {\"role\": \"system\", \"content\": system},\n",
    "          {\"role\": \"user\", \"content\": user}\n",
    "      ],\n",
    "      \"temperature\": 0,\n",
    "      \"top_p\": 0.95,\n",
    "      \"max_tokens\": 500\n",
    "  }\n",
    "\n",
    "  headers = {\n",
    "      \"Content-Type\": \"application/json\",\n",
    "      \"Authorization\": f\"Bearer {token}\"\n",
    "  }\n",
    "\n",
    "  response = requests.post(endpoint, headers=headers, json=payload)\n",
    "\n",
    "  #print(response['candidates'][0]['text'])\n",
    "  return json.loads(response.text)['choices'][0]['message']['content']\n"
   ]
  },
  {
   "cell_type": "code",
   "execution_count": 0,
   "metadata": {
    "application/vnd.databricks.v1+cell": {
     "cellMetadata": {
      "byteLimit": 2048000,
      "rowLimit": 10000
     },
     "inputWidgets": {},
     "nuid": "8b3282c4-044f-4c33-801e-1bad0850a2e0",
     "showTitle": false,
     "title": ""
    }
   },
   "outputs": [
    {
     "output_type": "stream",
     "name": "stdout",
     "output_type": "stream",
     "text": [
      "Here is a concise email informing a customer about Enzyme in DLT:\n\nSubject: Introduction to Enzyme in DLT\n\nDear [Customer's Name],\n\nI hope this email finds you well. I wanted to take a moment to introduce you to Enzyme, a key component in our Distributed Ledger Technology (DLT) system.\n\nEnzyme is a powerful encryption algorithm that enables secure and efficient data processing within our DLT network. It plays a crucial role in ensuring the integrity and confidentiality of transactions, making it an essential element of our system.\n\nIn simple terms, Enzyme helps to:\n\n* Protect sensitive data from unauthorized access\n* Ensure fast and reliable transaction processing\n* Maintain the integrity of our DLT network\n\nIf you have any questions or would like to learn more about Enzyme or our DLT system, please don't hesitate to reach out. We're always here to help.\n\nBest regards,\n\n[Your Name]\n"
     ]
    }
   ],
   "source": [
    "output = generate(url, databricks_token, system_prompt, user_message)\n",
    "print(output)"
   ]
  },
  {
   "cell_type": "code",
   "execution_count": 0,
   "metadata": {
    "application/vnd.databricks.v1+cell": {
     "cellMetadata": {
      "byteLimit": 2048000,
      "rowLimit": 10000
     },
     "inputWidgets": {},
     "nuid": "01943614-d2db-40cf-a0be-0dd8b9879176",
     "showTitle": false,
     "title": ""
    }
   },
   "outputs": [],
   "source": [
    "#Change temperature from 0 to 0.5 to 0.75 and try again"
   ]
  },
  {
   "cell_type": "markdown",
   "metadata": {
    "application/vnd.databricks.v1+cell": {
     "cellMetadata": {
      "byteLimit": 2048000,
      "rowLimit": 10000
     },
     "inputWidgets": {},
     "nuid": "487e1e39-eec4-4971-994f-0e3985a0e33e",
     "showTitle": false,
     "title": ""
    }
   },
   "source": [
    "### Starting from the bottom: smaller Language Models   \n",
    "\n",
    "#### BERT - released October 2018\n"
   ]
  },
  {
   "cell_type": "markdown",
   "metadata": {
    "application/vnd.databricks.v1+cell": {
     "cellMetadata": {
      "byteLimit": 2048000,
      "rowLimit": 10000
     },
     "inputWidgets": {},
     "nuid": "98de72a2-19dd-46b5-9af8-36f33037fe10",
     "showTitle": false,
     "title": ""
    }
   },
   "source": [
    "![BERT Training](https://jalammar.github.io/images/bert-transfer-learning.png \"BERT training\")\n"
   ]
  },
  {
   "cell_type": "markdown",
   "metadata": {
    "application/vnd.databricks.v1+cell": {
     "cellMetadata": {
      "byteLimit": 2048000,
      "rowLimit": 10000
     },
     "inputWidgets": {},
     "nuid": "61c8a3f4-d8c9-4410-9469-4da72b33cf82",
     "showTitle": false,
     "title": ""
    }
   },
   "source": [
    "link: https://jalammar.github.io/a-visual-guide-to-using-bert-for-the-first-time/\n",
    "\n",
    "link: https://jalammar.github.io/illustrated-bert/\n",
    "\n",
    "![BERT Architecture](https://jalammar.github.io/images/bert-output-vector.png \"BERT architecture\")"
   ]
  },
  {
   "cell_type": "markdown",
   "metadata": {
    "application/vnd.databricks.v1+cell": {
     "cellMetadata": {},
     "inputWidgets": {},
     "nuid": "7221eb40-e079-4b0f-b407-9e387e9c0c9c",
     "showTitle": false,
     "title": ""
    }
   },
   "source": [
    "![LLM inference process](https://www.oreilly.com/api/v2/epubs/9781098150952/files/assets/tokens_token_embeddings_963889_03.png \"LLM Inference Process\")"
   ]
  },
  {
   "cell_type": "markdown",
   "metadata": {
    "application/vnd.databricks.v1+cell": {
     "cellMetadata": {},
     "inputWidgets": {},
     "nuid": "36d3dd18-f24e-46ee-9a19-90740622d30d",
     "showTitle": false,
     "title": ""
    }
   },
   "source": [
    "#### Looking inside the model"
   ]
  },
  {
   "cell_type": "code",
   "execution_count": 0,
   "metadata": {
    "application/vnd.databricks.v1+cell": {
     "cellMetadata": {
      "byteLimit": 2048000,
      "rowLimit": 10000
     },
     "inputWidgets": {},
     "nuid": "3ae39b52-fb76-4655-b00d-3171c1070b04",
     "showTitle": false,
     "title": ""
    }
   },
   "outputs": [],
   "source": [
    "from transformers import BertTokenizer, BertModel\n",
    "bert_tokenizer = BertTokenizer.from_pretrained('bert-base-uncased')\n",
    "bert_model = BertModel.from_pretrained(\"bert-base-uncased\")"
   ]
  },
  {
   "cell_type": "code",
   "execution_count": 0,
   "metadata": {
    "application/vnd.databricks.v1+cell": {
     "cellMetadata": {
      "byteLimit": 2048000,
      "rowLimit": 10000
     },
     "inputWidgets": {},
     "nuid": "76cbf5c7-96fd-4aa5-b1bd-fea53cfafe1a",
     "showTitle": false,
     "title": ""
    }
   },
   "outputs": [
    {
     "output_type": "execute_result",
     "data": {
      "text/plain": [
       "BertModel(\n",
       "  (embeddings): BertEmbeddings(\n",
       "    (word_embeddings): Embedding(30522, 768, padding_idx=0)\n",
       "    (position_embeddings): Embedding(512, 768)\n",
       "    (token_type_embeddings): Embedding(2, 768)\n",
       "    (LayerNorm): LayerNorm((768,), eps=1e-12, elementwise_affine=True)\n",
       "    (dropout): Dropout(p=0.1, inplace=False)\n",
       "  )\n",
       "  (encoder): BertEncoder(\n",
       "    (layer): ModuleList(\n",
       "      (0-11): 12 x BertLayer(\n",
       "        (attention): BertAttention(\n",
       "          (self): BertSelfAttention(\n",
       "            (query): Linear(in_features=768, out_features=768, bias=True)\n",
       "            (key): Linear(in_features=768, out_features=768, bias=True)\n",
       "            (value): Linear(in_features=768, out_features=768, bias=True)\n",
       "            (dropout): Dropout(p=0.1, inplace=False)\n",
       "          )\n",
       "          (output): BertSelfOutput(\n",
       "            (dense): Linear(in_features=768, out_features=768, bias=True)\n",
       "            (LayerNorm): LayerNorm((768,), eps=1e-12, elementwise_affine=True)\n",
       "            (dropout): Dropout(p=0.1, inplace=False)\n",
       "          )\n",
       "        )\n",
       "        (intermediate): BertIntermediate(\n",
       "          (dense): Linear(in_features=768, out_features=3072, bias=True)\n",
       "          (intermediate_act_fn): GELUActivation()\n",
       "        )\n",
       "        (output): BertOutput(\n",
       "          (dense): Linear(in_features=3072, out_features=768, bias=True)\n",
       "          (LayerNorm): LayerNorm((768,), eps=1e-12, elementwise_affine=True)\n",
       "          (dropout): Dropout(p=0.1, inplace=False)\n",
       "        )\n",
       "      )\n",
       "    )\n",
       "  )\n",
       "  (pooler): BertPooler(\n",
       "    (dense): Linear(in_features=768, out_features=768, bias=True)\n",
       "    (activation): Tanh()\n",
       "  )\n",
       ")"
      ]
     },
     "execution_count": 114,
     "metadata": {},
     "output_type": "execute_result"
    }
   ],
   "source": [
    "bert_model"
   ]
  },
  {
   "cell_type": "code",
   "execution_count": 0,
   "metadata": {
    "application/vnd.databricks.v1+cell": {
     "cellMetadata": {
      "byteLimit": 2048000,
      "rowLimit": 10000
     },
     "inputWidgets": {},
     "nuid": "1cfb63e6-15e0-45c8-b038-a97d5849409a",
     "showTitle": false,
     "title": ""
    }
   },
   "outputs": [
    {
     "output_type": "execute_result",
     "data": {
      "text/plain": [
       "109482240"
      ]
     },
     "execution_count": 115,
     "metadata": {},
     "output_type": "execute_result"
    }
   ],
   "source": [
    "bert_model.num_parameters()"
   ]
  },
  {
   "cell_type": "code",
   "execution_count": 0,
   "metadata": {
    "application/vnd.databricks.v1+cell": {
     "cellMetadata": {
      "byteLimit": 2048000,
      "rowLimit": 10000
     },
     "inputWidgets": {},
     "nuid": "4dd4e131-7d70-4579-ad2a-3feb4cb366ba",
     "showTitle": false,
     "title": ""
    }
   },
   "outputs": [
    {
     "output_type": "stream",
     "name": "stdout",
     "output_type": "stream",
     "text": [
      "Parameter name: embeddings.word_embeddings.weight, Shape: torch.Size([30522, 768]), Param: Parameter containing:\ntensor([[-0.0102, -0.0615, -0.0265,  ..., -0.0199, -0.0372, -0.0098],\n        [-0.0117, -0.0600, -0.0323,  ..., -0.0168, -0.0401, -0.0107],\n        [-0.0198, -0.0627, -0.0326,  ..., -0.0165, -0.0420, -0.0032],\n        ...,\n        [-0.0218, -0.0556, -0.0135,  ..., -0.0043, -0.0151, -0.0249],\n        [-0.0462, -0.0565, -0.0019,  ...,  0.0157, -0.0139, -0.0095],\n        [ 0.0015, -0.0821, -0.0160,  ..., -0.0081, -0.0475,  0.0753]],\n       requires_grad=True)\nParameter name: embeddings.position_embeddings.weight, Shape: torch.Size([512, 768]), Param: Parameter containing:\ntensor([[ 1.7505e-02, -2.5631e-02, -3.6642e-02,  ...,  3.3437e-05,\n          6.8312e-04,  1.5441e-02],\n        [ 7.7580e-03,  2.2613e-03, -1.9444e-02,  ...,  2.8910e-02,\n          2.9753e-02, -5.3247e-03],\n        [-1.1287e-02, -1.9644e-03, -1.1573e-02,  ...,  1.4908e-02,\n          1.8741e-02, -7.3140e-03],\n        ...,\n        [ 1.7418e-02,  3.4903e-03, -9.5621e-03,  ...,  2.9599e-03,\n          4.3435e-04, -2.6949e-02],\n        [ 2.1687e-02, -6.0216e-03,  1.4736e-02,  ..., -5.6118e-03,\n         -1.2590e-02, -2.8085e-02],\n        [ 2.6413e-03, -2.3298e-02,  5.4922e-03,  ...,  1.7537e-02,\n          2.7550e-02, -7.7656e-02]], requires_grad=True)\nParameter name: embeddings.token_type_embeddings.weight, Shape: torch.Size([2, 768]), Param: Parameter containing:\ntensor([[ 0.0004,  0.0110,  0.0037,  ..., -0.0066, -0.0034, -0.0086],\n        [ 0.0011, -0.0030, -0.0032,  ...,  0.0047, -0.0052, -0.0112]],\n       requires_grad=True)\nParameter name: embeddings.LayerNorm.weight, Shape: torch.Size([768]), Param: Parameter containing:\ntensor([0.9261, 0.8851, 0.8581, 0.8617, 0.8937, 0.8969, 0.9297, 0.9137, 0.9371,\n        0.8084, 0.7992, 0.8071, 0.9031, 0.8198, 0.9100, 0.8493, 0.8152, 0.8613,\n        0.9142, 0.8652, 0.9234, 0.8672, 0.9008, 0.8684, 0.8440, 0.8990, 0.7891,\n        0.9275, 0.8501, 0.8413, 0.9179, 0.8641, 0.9185, 0.9657, 0.8861, 0.8710,\n        0.9103, 0.8739, 0.9133, 0.8880, 0.9130, 0.9374, 0.8823, 0.8622, 0.8812,\n        0.8708, 0.8570, 0.9445, 0.9163, 0.9356, 0.9265, 0.8504, 0.9300, 0.3447,\n        0.8650, 0.8197, 0.8722, 0.8566, 0.8939, 0.8051, 0.9007, 0.8483, 0.3870,\n        0.8889, 0.8923, 0.8772, 0.8963, 0.9548, 0.8944, 0.8946, 0.9471, 0.9489,\n        0.9349, 0.7814, 0.9255, 0.7943, 0.8806, 0.3857, 0.7900, 0.8478, 0.8886,\n        0.9215, 0.9292, 0.8990, 0.7790, 0.8255, 0.8717, 0.8778, 0.9021, 0.9190,\n        0.8605, 0.8762, 0.7084, 0.8599, 0.8981, 0.8092, 0.4021, 0.7917, 0.8923,\n        0.9118, 0.9459, 0.9489, 0.8744, 0.8402, 0.8031, 0.2923, 0.9314, 0.9065,\n        0.8852, 0.8115, 0.9090, 0.8948, 0.9024, 0.9147, 0.8994, 0.8709, 0.9006,\n        0.9032, 0.8945, 0.8992, 0.8674, 0.1510, 0.8702, 0.8860, 0.6453, 0.8554,\n        0.8652, 0.7923, 0.8951, 0.8370, 0.9121, 0.8860, 0.4010, 0.8836, 0.8963,\n        0.9265, 0.8997, 0.8338, 0.9043, 0.4212, 0.9174, 0.9093, 0.9214, 0.9099,\n        0.9185, 0.1877, 0.9138, 0.8466, 0.8435, 0.8340, 0.8081, 0.9064, 0.7318,\n        0.8842, 0.9489, 0.9096, 0.9133, 0.8368, 0.9172, 0.1242, 0.9090, 0.9128,\n        0.8443, 0.9831, 0.9145, 0.9176, 0.8641, 0.8422, 0.3847, 0.8949, 0.9381,\n        0.8940, 0.8285, 0.9439, 0.9318, 0.1185, 0.8464, 0.8418, 0.8703, 0.8623,\n        0.8936, 0.9349, 0.8707, 0.9318, 0.9362, 0.9171, 0.9231, 0.8718, 0.9331,\n        0.8409, 0.8814, 0.8905, 0.8714, 0.8592, 0.8775, 0.8865, 0.9147, 0.9135,\n        0.7989, 0.8081, 0.8708, 0.9014, 0.2742, 0.8638, 0.8609, 0.8354, 0.9148,\n        0.8464, 0.9376, 0.8697, 0.8553, 0.9501, 0.8380, 0.9075, 0.8760, 0.2617,\n        0.1264, 0.9096, 0.5226, 0.8553, 0.9289, 0.8844, 0.9436, 0.8768, 0.8213,\n        0.3509, 0.8355, 0.7795, 0.9288, 0.8961, 0.8741, 0.8785, 0.8789, 0.9082,\n        0.9163, 0.8849, 0.8641, 0.8015, 0.9239, 0.7953, 0.8380, 0.8894, 0.9044,\n        0.8646, 0.8414, 0.3916, 0.8405, 0.8416, 0.8593, 0.4864, 0.8912, 0.8796,\n        0.8739, 0.8619, 0.9102, 0.8609, 0.8451, 0.8702, 0.8543, 0.8729, 0.9333,\n        0.8829, 0.9353, 0.8981, 0.7935, 0.8589, 0.9080, 0.8970, 0.9057, 0.9114,\n        0.8719, 0.8928, 0.8630, 0.8621, 0.9335, 0.9372, 0.8323, 0.8541, 0.8904,\n        0.9081, 0.8410, 0.9020, 0.9285, 0.3199, 0.8969, 0.8276, 0.8606, 0.9147,\n        0.8596, 0.9309, 0.8497, 0.4077, 0.8589, 0.8980, 0.8605, 0.8013, 0.3466,\n        0.9165, 0.8924, 0.8898, 0.8680, 0.9268, 0.9153, 0.8970, 0.7476, 0.9126,\n        0.8541, 0.8794, 0.8637, 0.8899, 0.8578, 0.3877, 0.8876, 0.8887, 0.9539,\n        0.8464, 0.9220, 0.9094, 0.8906, 0.4427, 0.8934, 0.8639, 0.8826, 0.8951,\n        0.9021, 0.9081, 0.8711, 0.9089, 0.9003, 0.8644, 0.8243, 0.4171, 0.8461,\n        0.9071, 0.8809, 0.8440, 0.8420, 0.9303, 0.9043, 0.9185, 0.7761, 0.8801,\n        0.8777, 0.8956, 0.8651, 0.3741, 0.9125, 0.8279, 0.8863, 0.9568, 0.9130,\n        0.9308, 0.9037, 0.2834, 0.8967, 0.9063, 0.8815, 0.8595, 0.8862, 0.8595,\n        0.9078, 0.8376, 0.8270, 0.8330, 0.9077, 0.8695, 0.8746, 0.8756, 0.8910,\n        0.8326, 0.8960, 0.8280, 0.9293, 0.8439, 0.8843, 0.9747, 0.9029, 0.8918,\n        0.8340, 0.9228, 0.8763, 0.5711, 0.8947, 0.9175, 0.8911, 0.8977, 0.8908,\n        0.9205, 0.9037, 0.8681, 0.8172, 0.8671, 0.8722, 0.8607, 0.9117, 0.8887,\n        0.8645, 0.8427, 0.8681, 0.9256, 0.8530, 0.6331, 0.8565, 0.8803, 0.7949,\n        0.8887, 0.9112, 0.8817, 0.8718, 0.9304, 0.9084, 0.8746, 0.9361, 0.8845,\n        0.8872, 0.8587, 0.8798, 0.8725, 0.8966, 0.3244, 0.8557, 0.7890, 0.8897,\n        0.8419, 0.8509, 0.8581, 0.8828, 0.9216, 0.9017, 0.7707, 0.9108, 0.8098,\n        0.9066, 0.8178, 0.9126, 0.9510, 0.8832, 0.8151, 0.8725, 0.8795, 0.8997,\n        0.8967, 0.8649, 0.3751, 0.8935, 0.7732, 0.9368, 0.8688, 0.8896, 0.8816,\n        0.8823, 0.9228, 0.8957, 0.9060, 0.9271, 0.9419, 0.8766, 0.8950, 0.8504,\n        0.8929, 0.8664, 0.3603, 0.9116, 0.9117, 0.8619, 0.8388, 0.8478, 0.8033,\n        0.8349, 0.8558, 0.8909, 0.9125, 0.8740, 0.8953, 0.8341, 0.8763, 0.8494,\n        0.8897, 0.8818, 0.8597, 0.9161, 0.8733, 0.3575, 0.9128, 0.8563, 0.8596,\n        0.8857, 0.8927, 0.8683, 0.8929, 0.9100, 0.8581, 0.8916, 0.9047, 0.9335,\n        0.8936, 0.3576, 0.8567, 0.9137, 0.8022, 0.8484, 0.8865, 0.8539, 0.8018,\n        0.7964, 0.8703, 0.8703, 0.8715, 0.9090, 0.9053, 0.7068, 0.8064, 0.8901,\n        0.8739, 0.8705, 0.8710, 0.8932, 0.3423, 0.8911, 0.8759, 0.9116, 0.8306,\n        0.9239, 0.8675, 0.8874, 0.9189, 0.8805, 0.9231, 0.8938, 0.0893, 0.8046,\n        0.8052, 0.9390, 0.9132, 0.8941, 0.8958, 0.9140, 0.8667, 0.8548, 0.8387,\n        0.8630, 0.1531, 0.9126, 0.8283, 0.9090, 0.3610, 0.8953, 0.8742, 0.8377,\n        0.9150, 0.9009, 0.8382, 0.9282, 0.9210, 0.9416, 0.9298, 0.8366, 0.8120,\n        0.8995, 0.9162, 0.9217, 0.8715, 0.8563, 0.9000, 0.8472, 0.8983, 0.8892,\n        0.8823, 0.8943, 0.9088, 0.8511, 0.9041, 0.8712, 0.6926, 0.9088, 0.8996,\n        0.8979, 0.3115, 0.9052, 0.8958, 0.8547, 0.9021, 0.9065, 0.8612, 0.9080,\n        0.8559, 0.9115, 0.8740, 0.8124, 0.9029, 0.9070, 0.8975, 0.9285, 0.8457,\n        0.8160, 0.8196, 0.8904, 0.8613, 0.9282, 0.8853, 0.8926, 0.9372, 0.9101,\n        0.8404, 0.8816, 0.8422, 0.9576, 0.8314, 0.9008, 0.8606, 0.9050, 0.8172,\n        0.9053, 0.8068, 0.3706, 0.8758, 0.8680, 0.9558, 0.8983, 0.8546, 0.8458,\n        0.8926, 0.9333, 0.8657, 0.9090, 0.8623, 0.8937, 0.8931, 0.8624, 0.8948,\n        0.8467, 0.8906, 0.8558, 0.8929, 0.9050, 0.9152, 0.9015, 0.9238, 0.8295,\n        0.9300, 0.8609, 0.8456, 0.8952, 0.8212, 0.9223, 0.8452, 0.8642, 0.8961,\n        0.8735, 0.8625, 0.9424, 0.9192, 0.8447, 0.8661, 0.1741, 0.8413, 0.8128,\n        0.8900, 0.9181, 0.8831, 0.8919, 0.9229, 0.9022, 0.8878, 0.9241, 0.8676,\n        0.9140, 0.8971, 0.8902, 0.8600, 0.4131, 0.8796, 0.8501, 0.8333, 0.9113,\n        0.9093, 0.8881, 0.8883, 0.9446, 0.8709, 0.9057, 0.9258, 0.8367, 0.9239,\n        0.9440, 0.8931, 0.8713, 0.9279, 0.9033, 0.9183, 0.9104, 0.8797, 0.8418,\n        0.9657, 0.8738, 0.8632, 0.8565, 0.8197, 0.8892, 0.3128, 0.9198, 0.9016,\n        0.8746, 0.8265, 0.9062, 0.8387, 0.7941, 0.8618, 0.8994, 0.8790, 0.8075,\n        0.8651, 0.7939, 0.9075, 0.8526, 0.9196, 0.8239, 0.8574, 0.9099, 0.8529,\n        0.8431, 0.8975, 0.9211, 0.9451, 0.8933, 0.9079, 0.8607, 0.7929, 0.8643,\n        0.8873, 0.8862, 0.9134, 0.9299, 0.7502, 0.8474, 0.8630, 0.9158, 0.8375,\n        0.9456, 0.8130, 0.8500, 0.9144, 0.9410, 0.8897, 0.8587, 0.8965, 0.8335,\n        0.8710, 0.8764, 0.8918, 0.9459, 0.9261, 0.8914, 0.8858, 0.9025, 0.8341,\n        0.8275, 0.9246, 0.8769, 0.7869, 0.9064, 0.8805, 0.8635, 0.9058, 0.8922,\n        0.7889, 0.8703, 0.9371], requires_grad=True)\nParameter name: embeddings.LayerNorm.bias, Shape: torch.Size([768]), Param: Parameter containing:\ntensor([-2.5915e-02, -1.9551e-02,  2.4239e-02,  8.9046e-02, -6.2811e-02,\n        -1.3259e-02,  1.3368e-02, -1.2601e-02,  4.4289e-03,  3.5345e-02,\n        -4.7754e-02, -1.3850e-02,  4.9743e-03, -1.0346e-01, -7.5715e-02,\n         2.6812e-02, -2.0635e-02, -4.3696e-02, -5.6391e-02, -8.6585e-02,\n        -8.4264e-03, -3.7167e-02, -4.3100e-02, -2.3440e-02,  2.0096e-02,\n        -6.8347e-03, -6.1792e-02, -4.7181e-02,  3.5398e-03, -5.6818e-03,\n        -4.0273e-02, -1.0445e-01, -3.0861e-02, -4.7370e-02, -5.1382e-02,\n         5.2509e-02, -6.0150e-03, -6.3076e-02, -3.2632e-02, -1.0294e-02,\n        -2.6134e-02,  3.2977e-02,  2.3532e-02, -3.7834e-02, -7.1279e-02,\n         1.8800e-02, -4.8075e-02, -2.5656e-02, -1.0538e-01,  4.4619e-03,\n        -2.8683e-02, -5.9236e-02,  1.2326e-02,  1.2549e-01, -5.6910e-02,\n        -7.5655e-02, -3.9333e-02,  6.9859e-03, -6.4214e-02, -4.6906e-02,\n        -2.1134e-02, -4.0144e-02, -7.7445e-02, -5.1023e-02,  2.9909e-02,\n         2.6647e-02, -4.1158e-02, -9.2278e-02, -4.4493e-02, -1.9326e-02,\n        -5.7582e-02, -3.1668e-03,  3.4696e-03, -1.6554e-02,  2.3527e-02,\n        -4.8038e-02,  9.7797e-03, -1.0442e-01, -4.8437e-02,  7.3197e-03,\n        -1.9734e-02, -4.2070e-02, -7.4608e-02, -8.5390e-04, -5.0404e-02,\n        -5.9856e-02, -4.1895e-02, -1.5177e-02, -6.5195e-02,  1.3958e-02,\n        -5.3032e-02, -2.6719e-02, -8.8763e-02, -9.3736e-02, -7.9080e-03,\n        -7.2518e-03, -6.7675e-03,  1.1923e-02, -1.0729e-03,  5.0090e-02,\n        -1.4544e-02,  9.8045e-03, -2.7189e-02, -9.0469e-03, -2.6189e-02,\n        -5.1260e-02,  6.2072e-03, -4.5944e-03, -4.2397e-02, -8.6799e-02,\n         1.0473e-01, -4.4651e-02, -1.2098e-03,  4.8902e-02, -6.6317e-02,\n        -6.5932e-02, -6.2869e-02, -4.5771e-03, -1.2409e-02, -3.4328e-02,\n        -3.1108e-02,  6.1508e-01, -5.7233e-02, -3.1616e-02,  3.6678e-02,\n        -1.2333e-02, -4.1743e-02,  7.6624e-02, -4.7894e-02,  5.1988e-03,\n        -3.1304e-02, -1.2102e-03,  2.2624e-02, -8.7661e-02,  2.3106e-02,\n        -8.2632e-03, -3.9954e-03, -2.6696e-02, -2.7406e-02,  1.2978e-01,\n        -1.6759e-03, -5.2163e-02, -4.4482e-02, -1.1419e-02, -7.6521e-02,\n         6.3131e-01, -2.7994e-02,  1.8642e-02,  1.4419e-02,  1.1243e-02,\n        -1.5756e-02, -3.2812e-03,  7.8419e-02, -2.1316e-02, -1.7731e-02,\n        -1.7104e-02, -2.1411e-02,  2.1579e-03,  7.5490e-03, -1.7664e-01,\n        -6.4108e-04, -4.8799e-02, -1.0787e-02,  2.0321e-02, -2.7500e-02,\n        -1.5150e-02, -2.5434e-02, -1.0745e-01,  1.8762e-01,  2.7139e-02,\n        -5.7344e-02, -5.7125e-02, -7.7040e-02, -6.8253e-04, -2.8963e-02,\n        -5.5552e-01, -7.3063e-02, -2.8202e-02, -9.1884e-02, -5.5053e-02,\n        -9.9699e-03, -2.3530e-02,  2.2338e-02,  1.1792e-02, -3.9402e-02,\n        -4.2718e-02, -7.0445e-02, -8.4193e-02, -1.5879e-02, -3.8651e-02,\n        -9.6151e-03,  2.3536e-02, -2.7933e-02,  4.9370e-02, -3.2360e-03,\n         4.4905e-03, -1.4351e-02, -4.7481e-02,  5.6372e-02,  2.5966e-02,\n        -2.2563e-02, -1.2718e-01, -4.2220e-02, -1.7046e-02,  3.3547e-02,\n        -6.6450e-02, -5.1126e-02, -1.2893e-02,  4.5700e-02, -5.0845e-02,\n        -4.1066e-03,  1.1188e-02, -9.1059e-02, -3.1550e-02, -3.3693e-02,\n        -8.1856e-02, -8.6929e-02, -4.9886e-02, -3.7611e-02, -7.4728e-02,\n        -8.2650e-02, -1.6736e-03, -3.9741e-02, -4.0385e-02,  2.5962e-02,\n        -1.1098e-01, -5.4296e-02, -5.1232e-03, -4.8667e-02,  3.3547e-02,\n        -7.9387e-03,  1.7725e-02,  4.1061e-02,  2.0418e-02,  8.8616e-03,\n        -2.1618e-02, -4.0198e-02, -1.0598e-01, -3.6634e-02,  1.2662e-02,\n        -2.1713e-02,  2.8119e-03, -3.4493e-02, -5.1686e-03,  1.8638e-02,\n        -1.2686e-01,  8.6229e-03,  2.7526e-02, -4.0473e-02,  1.8166e-02,\n        -5.8837e-03, -1.6472e-02,  1.7345e-02, -9.9164e-02, -5.7288e-02,\n        -5.2321e-02,  1.6784e-02, -4.9069e-02, -4.7374e-02, -5.9768e-02,\n        -3.3697e-02, -2.1515e-02, -6.7439e-02, -2.5190e-03, -4.5390e-02,\n        -6.3062e-02, -6.6929e-03,  7.1754e-03, -1.1063e-02, -6.1783e-03,\n        -3.5333e-04, -3.5153e-02, -4.2905e-02, -1.4619e-02,  3.9847e-02,\n        -2.7761e-02, -7.3141e-02, -1.0278e-02, -2.2473e-02, -8.3281e-03,\n        -4.7029e-02, -3.7808e-02, -1.4231e-03, -1.5028e-01,  1.4308e-02,\n         1.9772e-02, -6.9576e-03, -8.7298e-03, -3.0035e-02, -2.1216e-02,\n        -1.8634e-02, -1.8011e-02, -1.8625e-02, -7.3722e-02, -1.1419e-02,\n        -5.4381e-02, -7.2602e-02, -5.6164e-02,  4.9254e-03,  2.8565e-02,\n        -3.2194e-02,  3.3299e-02,  9.2594e-03, -1.4165e-02,  6.2481e-03,\n        -9.1849e-02, -6.1673e-02, -1.9788e-02,  8.0208e-01,  3.8315e-03,\n         7.3194e-03, -2.7890e-03, -4.5539e-02,  3.4170e-02, -5.8225e-02,\n         4.7824e-02, -3.0348e-02, -9.3666e-03, -2.2191e-02, -4.2016e-02,\n        -3.2741e-02, -4.6574e-02, -3.0170e-02,  1.2240e-02, -4.0513e-02,\n        -5.1817e-02, -4.1886e-02, -6.0936e-02, -1.6476e-02, -4.5148e-02,\n        -5.2216e-02, -8.4434e-02,  4.1617e-02,  1.5191e-02, -6.4686e-03,\n        -7.0176e-02, -4.5118e-02, -1.1611e-03, -2.9325e-02,  1.9957e-02,\n        -3.3062e-02, -5.7241e-03, -3.4643e-02, -1.8349e-02, -3.8300e-02,\n         4.2363e-02, -2.9268e-03,  1.6553e-02, -2.5765e-02, -5.7496e-02,\n         2.9435e-02, -1.9588e-02, -5.3201e-02, -1.5394e-01,  6.0334e-03,\n         3.9881e-02,  6.9188e-03, -6.4305e-02, -5.9645e-03, -5.3314e-02,\n        -3.7108e-02, -3.0492e-02, -5.4900e-02, -1.3776e-02, -4.4202e-02,\n        -1.3504e-02,  1.9884e-03, -6.2694e-02, -9.7083e-03, -2.9480e-02,\n        -4.7304e-02, -2.8082e-02, -5.3774e-02, -1.5157e-02,  3.7363e-02,\n        -7.8915e-03, -1.2612e-02, -3.1819e-02,  2.9497e-02, -6.3238e-02,\n        -4.4190e-02,  8.2589e-02,  3.4296e-03, -5.5870e-02, -1.4455e-03,\n        -4.9274e-02, -3.3716e-02, -1.6712e-03, -7.8818e-02,  1.3456e-04,\n        -4.2685e-02, -5.5039e-02, -8.0704e-04, -5.3792e-02, -4.3908e-02,\n        -4.2086e-02, -2.0246e-02, -9.8204e-03,  1.1588e-02, -5.2375e-03,\n        -1.0368e-01,  8.1678e-02,  2.4802e-02, -2.1297e-02, -9.7985e-03,\n        -5.9728e-02,  1.5593e-02, -2.7538e-02, -7.1796e-02, -2.6682e-02,\n        -9.7993e-03, -6.1281e-03, -1.3567e-02,  4.6011e-02, -3.6998e-02,\n        -2.9911e-02, -3.7790e-03,  6.2445e-02, -4.7371e-02, -2.5641e-02,\n        -3.3513e-02,  3.3076e-02, -3.4258e-03, -6.4098e-02,  6.2438e-03,\n        -2.5948e-03, -2.0595e-02,  5.8018e-03, -1.6952e-02, -3.1340e-02,\n         9.2013e-03,  4.3807e-03, -2.9900e-02, -4.6831e-02, -3.2926e-02,\n        -4.3346e-02, -5.5193e-02, -3.0171e-02, -4.6218e-02,  4.4061e-03,\n        -9.8874e-02, -4.5176e-02, -1.1195e-02, -2.7977e-02, -7.3573e-02,\n         1.1170e-02,  3.1528e-03, -3.4605e-02,  3.5081e-02, -2.1169e-02,\n        -8.5231e-02, -4.1800e-02, -7.9768e-03, -3.4629e-02, -5.7468e-02,\n        -4.7183e-02, -2.8348e-02, -3.6573e-02, -2.6794e-03, -1.7779e-02,\n        -1.4600e-02, -1.0303e-01,  3.5081e-03, -2.5528e-02, -4.9287e-02,\n         3.8913e-02, -5.2635e-02, -9.3173e-02, -4.1900e-02, -4.4379e-03,\n        -4.4030e-02, -9.7478e-02, -2.3247e-03, -5.1886e-02, -1.7192e-02,\n        -1.0453e-01, -4.2942e-02,  1.8478e-02,  1.2559e-04, -1.8215e-02,\n        -2.0113e-02, -4.5295e-02, -1.4194e-01, -3.1605e-02, -6.3404e-02,\n        -3.7623e-02, -6.0113e-02, -1.3319e-02,  1.1182e-02, -1.3580e-02,\n        -2.4558e-02,  2.4573e-02, -6.4949e-02,  3.2738e-02,  2.5244e-03,\n        -4.8500e-02, -2.2500e-01, -2.6963e-02, -1.0417e-02, -4.8178e-02,\n        -5.7472e-02,  7.4324e-03, -3.0408e-02,  4.2802e-02,  2.3494e-02,\n         7.9873e-02, -3.8498e-03,  3.8484e-03, -2.9699e-02,  1.0604e-02,\n        -3.2911e-02,  5.0820e-02, -5.2097e-02, -1.1356e-02, -1.6708e-02,\n         8.7562e-03, -2.1074e-03, -7.0831e-02,  4.1871e-03, -6.0861e-02,\n         9.9281e-03, -1.7498e-02, -4.1576e-02, -4.8107e-02, -3.5936e-04,\n        -3.7300e-02, -3.3615e-02,  9.3065e-03, -2.8743e-02,  3.3892e-01,\n         1.5589e-02, -1.2075e-02,  6.6061e-03, -5.2829e-02,  1.5670e-03,\n         4.6090e-03, -1.8197e-02, -1.4730e-02, -4.7913e-02, -5.0891e-02,\n        -4.0786e-02,  5.8770e-01, -6.4010e-02, -3.2896e-02, -4.6990e-02,\n         3.4083e-02, -5.3831e-02,  8.2924e-03, -2.8368e-02, -7.9581e-02,\n        -3.3436e-02, -1.5637e-02, -4.1197e-02, -1.0807e-02, -4.7561e-02,\n        -2.3212e-03, -7.9414e-02, -6.0072e-02, -4.9086e-02,  2.9513e-02,\n        -2.1450e-02, -5.3149e-02, -3.6076e-02, -1.6571e-03, -6.2381e-02,\n        -6.6562e-02, -2.9433e-02, -4.5580e-02,  1.0057e-01, -4.5016e-02,\n        -3.4638e-02,  2.1939e-02, -3.1183e-02,  3.4385e-02, -5.1813e-02,\n        -8.3614e-02, -5.7168e-02,  1.2340e-03, -2.0756e-02, -2.6120e-02,\n        -4.4349e-02,  2.2629e-02, -3.6499e-02, -7.4934e-02, -5.3121e-02,\n        -3.3120e-02, -2.8963e-02, -7.9662e-02, -8.9498e-03, -4.6545e-03,\n        -1.6556e-02,  2.1857e-02, -2.8907e-02, -3.7812e-02, -5.4892e-02,\n        -3.4956e-02, -4.2588e-02, -7.1425e-02,  1.5524e-02, -3.1012e-02,\n        -6.1514e-02,  2.8281e-04, -1.8246e-02, -5.7785e-02, -7.1134e-02,\n        -1.8365e-03, -5.5846e-02,  1.3763e-02,  1.6217e-02, -3.6842e-02,\n         8.6093e-03, -2.2123e-02, -3.4059e-02,  1.3480e-02,  2.1419e-02,\n        -5.8765e-02, -2.1433e-02,  1.2538e-02,  2.3434e-02, -5.7161e-02,\n        -4.8857e-02, -3.1402e-02, -3.3618e-02,  1.5734e-02, -1.7967e-02,\n         1.1478e-02,  1.1616e-02, -5.8076e-02, -3.0479e-02, -7.3423e-03,\n        -1.0336e-02, -6.3839e-02, -6.6791e-02, -1.2612e-02, -3.2404e-02,\n        -6.7228e-02, -5.3619e-02, -2.7398e-02, -7.7866e-02,  5.1737e-02,\n        -2.5613e-02,  1.1497e-02,  1.3377e-02, -5.3409e-02, -4.9095e-02,\n        -2.2944e-02,  2.5084e-03, -2.5901e-02, -5.7878e-02, -6.1535e-02,\n        -1.7601e-02,  3.0494e-02,  1.9008e-04, -8.8127e-02,  4.1211e-01,\n        -5.1857e-02, -5.3548e-02,  1.5308e-02, -1.1714e-01, -2.2206e-03,\n        -1.2477e-03,  2.6556e-02, -3.5507e-02, -5.7006e-02,  3.4786e-02,\n        -4.6205e-03, -7.0835e-02, -2.1287e-02, -1.0036e-01, -8.3618e-03,\n        -1.0289e-01, -4.1975e-02, -3.5961e-05, -7.5675e-02,  1.9396e-02,\n        -3.7410e-02,  4.2746e-02,  5.0878e-03,  1.1096e-02,  1.6870e-02,\n        -4.5282e-02, -3.0101e-02,  4.7371e-03, -6.1676e-02,  4.0941e-02,\n        -3.1624e-02, -9.7934e-03,  1.2703e-02, -1.4288e-02, -8.3961e-02,\n        -7.7898e-02, -6.4819e-02, -3.2725e-02, -1.6302e-02, -2.3457e-02,\n        -1.1265e-02, -6.2687e-02, -7.6259e-02, -2.2835e-02, -2.5439e-02,\n        -2.4275e-02, -4.0159e-02,  1.8949e-02, -5.8023e-02,  9.1777e-02,\n        -6.6573e-02, -2.8843e-02, -1.1038e-01,  1.0182e-02,  5.3695e-02,\n        -5.3867e-02, -7.2295e-03,  1.9030e-02, -1.3369e-02, -6.8040e-02,\n        -8.5284e-03, -1.7947e-03, -4.6275e-02,  1.1811e-02, -2.4199e-02,\n        -1.1963e-02, -4.9817e-02, -3.2041e-02, -3.5187e-02, -1.6900e-02,\n         5.3006e-02, -4.8574e-02, -5.8965e-03,  4.1262e-02, -4.1019e-02,\n        -1.0224e-02, -4.6405e-02,  2.5255e-02, -9.2840e-03, -5.2485e-02,\n        -4.3174e-02, -5.2193e-02,  1.9306e-02,  4.4194e-02, -6.9535e-02,\n         2.6020e-02, -4.7134e-02, -4.4771e-02,  2.4170e-02, -3.9867e-02,\n        -2.1866e-02, -4.8301e-02, -1.4754e-02,  1.3661e-03, -1.0784e-01,\n        -3.0805e-02, -2.7660e-02, -4.8102e-02, -9.1866e-03,  7.9246e-03,\n        -7.7543e-02,  4.5545e-02, -2.2095e-02,  1.2343e-02, -4.7419e-02,\n        -3.0890e-02, -4.7592e-02, -3.6342e-02,  6.3097e-04, -4.9002e-02,\n        -2.9923e-02,  2.1318e-02,  3.0553e-02], requires_grad=True)\n"
     ]
    }
   ],
   "source": [
    "#so roughly 109.5 million parameters\n",
    "# Print the names and shapes of the model's parameters\n",
    "i=0\n",
    "for name, param in bert_model.named_parameters():\n",
    "    if i<5:\n",
    "      print(f\"Parameter name: {name}, Shape: {param.shape}, Param: {param}\")\n",
    "    i+=1"
   ]
  },
  {
   "cell_type": "code",
   "execution_count": 0,
   "metadata": {
    "application/vnd.databricks.v1+cell": {
     "cellMetadata": {
      "byteLimit": 2048000,
      "rowLimit": 10000
     },
     "inputWidgets": {},
     "nuid": "76366794-802f-4d0c-89b5-efb1e7ca7d35",
     "showTitle": false,
     "title": ""
    }
   },
   "outputs": [
    {
     "output_type": "execute_result",
     "data": {
      "text/plain": [
       "'Write an email informing a customer about Enzyme in DLT. Be Concise'"
      ]
     },
     "execution_count": 118,
     "metadata": {},
     "output_type": "execute_result"
    }
   ],
   "source": [
    "user_message"
   ]
  },
  {
   "cell_type": "markdown",
   "metadata": {
    "application/vnd.databricks.v1+cell": {
     "cellMetadata": {},
     "inputWidgets": {},
     "nuid": "88b124b1-7c2d-4938-8c81-d736fbf3e68e",
     "showTitle": false,
     "title": ""
    }
   },
   "source": [
    "#### Tokenization\n",
    "\n"
   ]
  },
  {
   "cell_type": "code",
   "execution_count": 0,
   "metadata": {
    "application/vnd.databricks.v1+cell": {
     "cellMetadata": {
      "byteLimit": 2048000,
      "rowLimit": 10000
     },
     "inputWidgets": {},
     "nuid": "635ea8e2-d7a4-4d36-9633-b0874ec6dd9b",
     "showTitle": false,
     "title": ""
    }
   },
   "outputs": [],
   "source": [
    "text = user_message\n",
    "tokenized_input = bert_tokenizer(text, return_tensors='pt', padding=True)"
   ]
  },
  {
   "cell_type": "code",
   "execution_count": 0,
   "metadata": {
    "application/vnd.databricks.v1+cell": {
     "cellMetadata": {
      "byteLimit": 2048000,
      "rowLimit": 10000
     },
     "inputWidgets": {},
     "nuid": "099211b2-765a-44e2-b52c-de9dc62aa7af",
     "showTitle": false,
     "title": ""
    }
   },
   "outputs": [
    {
     "output_type": "execute_result",
     "data": {
      "text/plain": [
       "{'input_ids': tensor([[  101,  4339,  2019, 10373, 21672,  1037,  8013,  2055,  9007,  1999,\n",
       "         21469,  2102,  1012,  2022,  9530, 18380,   102]]), 'token_type_ids': tensor([[0, 0, 0, 0, 0, 0, 0, 0, 0, 0, 0, 0, 0, 0, 0, 0, 0]]), 'attention_mask': tensor([[1, 1, 1, 1, 1, 1, 1, 1, 1, 1, 1, 1, 1, 1, 1, 1, 1]])}"
      ]
     },
     "execution_count": 119,
     "metadata": {},
     "output_type": "execute_result"
    }
   ],
   "source": [
    "tokenized_input"
   ]
  },
  {
   "cell_type": "code",
   "execution_count": 0,
   "metadata": {
    "application/vnd.databricks.v1+cell": {
     "cellMetadata": {
      "byteLimit": 2048000,
      "rowLimit": 10000
     },
     "inputWidgets": {},
     "nuid": "d0cd3479-b218-41f1-b470-f424c0dba3d7",
     "showTitle": false,
     "title": ""
    },
    "jupyter": {
     "source_hidden": true
    }
   },
   "outputs": [],
   "source": [
    "def tokenizer_mappings(text, model_name='bert-base-uncased'):\n",
    "    \"\"\"\n",
    "    Prints out the tokenizer mappings for a given text, including special tokens.\n",
    "\n",
    "    Parameters:\n",
    "    text (str): The text to tokenize and print mappings for.\n",
    "    model_name (str): The model identifier for the tokenizer.\n",
    "    \"\"\"\n",
    "    # Load the tokenizer\n",
    "    tokenizer = AutoTokenizer.from_pretrained(model_name)\n",
    "\n",
    "    # Tokenize the text and add special tokens\n",
    "    tokens = ['[CLS]'] + tokenizer.tokenize(text) + ['[SEP]']\n",
    "\n",
    "    # Convert tokens to their respective IDs\n",
    "    token_ids = tokenizer.convert_tokens_to_ids(tokens)\n",
    "\n",
    "    # Create a mapping of tokens to IDs\n",
    "    token_id_mapping = dict(zip(tokens, token_ids))\n",
    "\n",
    "    # Print the mapping of tokens to IDs\n",
    "    print(\"Token to ID mapping:\")\n",
    "    for token, token_id in token_id_mapping.items():\n",
    "        print(f\"{token}: {token_id}\")\n",
    "\n",
    "    # Additionally, print the mapping of IDs back to tokens\n",
    "    id_token_mapping = dict(zip(token_ids, tokens))\n",
    "\n",
    "    print(\"\\nID to Token mapping:\")\n",
    "    for token_id, token in id_token_mapping.items():\n",
    "        print(f\"{token_id}: {token}\")\n",
    "\n",
    "\n",
    "\n"
   ]
  },
  {
   "cell_type": "code",
   "execution_count": 0,
   "metadata": {
    "application/vnd.databricks.v1+cell": {
     "cellMetadata": {
      "byteLimit": 2048000,
      "rowLimit": 10000
     },
     "inputWidgets": {},
     "nuid": "3ec16dff-52d3-4a57-8176-9d23fb2ebe20",
     "showTitle": false,
     "title": ""
    }
   },
   "outputs": [
    {
     "output_type": "stream",
     "name": "stdout",
     "output_type": "stream",
     "text": [
      "Token to ID mapping:\n[CLS]: 101\nwrite: 4339\nan: 2019\nemail: 10373\ninforming: 21672\na: 1037\ncustomer: 8013\nabout: 2055\nenzyme: 9007\nin: 1999\ndl: 21469\n##t: 2102\n.: 1012\nbe: 2022\ncon: 9530\n##cise: 18380\n[SEP]: 102\n\nID to Token mapping:\n101: [CLS]\n4339: write\n2019: an\n10373: email\n21672: informing\n1037: a\n8013: customer\n2055: about\n9007: enzyme\n1999: in\n21469: dl\n2102: ##t\n1012: .\n2022: be\n9530: con\n18380: ##cise\n102: [SEP]\n"
     ]
    }
   ],
   "source": [
    "from transformers import AutoTokenizer\n",
    "#Token to word mappings\n",
    "tokenizer_mappings(\"Write an email informing a customer about Enzyme in DLT. Be Concise\")"
   ]
  },
  {
   "cell_type": "markdown",
   "metadata": {
    "application/vnd.databricks.v1+cell": {
     "cellMetadata": {},
     "inputWidgets": {},
     "nuid": "94bd0d4a-4aff-483f-be2c-2afdf615eed2",
     "showTitle": false,
     "title": ""
    }
   },
   "source": [
    "### Performing inference with the model"
   ]
  },
  {
   "cell_type": "code",
   "execution_count": 0,
   "metadata": {
    "application/vnd.databricks.v1+cell": {
     "cellMetadata": {
      "byteLimit": 2048000,
      "rowLimit": 10000
     },
     "inputWidgets": {},
     "nuid": "c5af6588-6327-4a0f-99dc-0e6403d188b3",
     "showTitle": false,
     "title": ""
    }
   },
   "outputs": [
    {
     "output_type": "execute_result",
     "data": {
      "text/plain": [
       "BaseModelOutputWithPoolingAndCrossAttentions(last_hidden_state=tensor([[[-0.5539, -0.0599, -0.3867,  ..., -0.2954,  0.1448,  0.4046],\n",
       "         [ 0.4885,  0.3727,  0.1662,  ...,  0.1482,  0.3383,  0.0029],\n",
       "         [ 0.2084,  0.2156,  0.0060,  ...,  0.0378, -0.0881,  0.5661],\n",
       "         ...,\n",
       "         [-0.0743, -0.5236,  0.2663,  ..., -0.0671,  0.0327, -0.1273],\n",
       "         [ 0.2363, -0.1622,  0.2775,  ...,  0.0386,  0.2413, -0.2018],\n",
       "         [ 0.5561,  0.0881, -0.4061,  ...,  0.3340, -0.6033, -0.2583]]],\n",
       "       grad_fn=<NativeLayerNormBackward0>), pooler_output=tensor([[-9.1370e-01, -4.0207e-01, -9.3675e-01,  7.7835e-01,  8.3409e-01,\n",
       "         -3.2733e-01,  7.9987e-01,  3.7112e-01, -8.9480e-01, -9.9999e-01,\n",
       "         -7.6652e-01,  8.9397e-01,  9.6921e-01,  5.5964e-01,  8.6713e-01,\n",
       "         -7.5099e-01, -2.7724e-01, -6.6277e-01,  3.6119e-01,  1.5148e-01,\n",
       "          6.6745e-01,  1.0000e+00, -2.6902e-01,  4.8091e-01,  6.0734e-01,\n",
       "          9.8295e-01, -7.3657e-01,  9.0130e-01,  9.3619e-01,  6.9847e-01,\n",
       "         -5.6228e-01,  3.5105e-01, -9.8602e-01, -3.3216e-01, -9.4910e-01,\n",
       "         -9.9026e-01,  5.1994e-01, -7.2594e-01, -9.8031e-02,  1.3072e-01,\n",
       "         -9.1005e-01,  5.0431e-01,  9.9999e-01, -1.5131e-01,  6.5400e-01,\n",
       "         -3.5605e-01, -1.0000e+00,  2.7382e-01, -8.6154e-01,  9.4960e-01,\n",
       "          9.0359e-01,  8.9792e-01,  2.7187e-01,  5.5727e-01,  6.1167e-01,\n",
       "         -1.7655e-01, -3.0289e-02,  2.2373e-01, -3.0192e-01, -6.1126e-01,\n",
       "         -7.0576e-01,  5.1472e-01, -9.2017e-01, -8.9016e-01,  9.0930e-01,\n",
       "          8.2776e-01, -4.0468e-01, -4.7323e-01, -2.4290e-01,  7.4871e-02,\n",
       "          8.1474e-01,  2.8763e-01, -1.7921e-01, -8.6210e-01,  7.5838e-01,\n",
       "          3.8934e-01, -7.9487e-01,  1.0000e+00, -6.7465e-01, -9.6636e-01,\n",
       "          9.2303e-01,  8.5232e-01,  7.4674e-01, -5.0607e-01,  4.9262e-01,\n",
       "         -1.0000e+00,  6.7941e-01, -3.2172e-01, -9.8516e-01,  3.2758e-01,\n",
       "          7.4485e-01, -3.8386e-01,  6.8834e-01,  8.1783e-01, -6.6433e-01,\n",
       "         -6.0589e-01, -3.9770e-01, -8.9545e-01, -4.4828e-01, -5.9471e-01,\n",
       "          2.1537e-01, -3.8310e-01, -4.7514e-01, -4.9411e-01,  5.0896e-01,\n",
       "         -5.6587e-01, -3.0226e-01,  6.2782e-01,  4.8573e-01,  6.8661e-01,\n",
       "          6.3455e-01, -4.7543e-01,  5.6716e-01, -9.3367e-01,  7.1601e-01,\n",
       "         -4.5635e-01, -9.8436e-01, -8.0122e-01, -9.8440e-01,  7.1490e-01,\n",
       "         -3.8812e-01, -3.8816e-01,  8.9850e-01, -5.0017e-01,  5.1826e-01,\n",
       "         -1.5991e-01, -9.5228e-01, -1.0000e+00, -7.4944e-01, -6.9748e-01,\n",
       "         -7.8387e-02, -3.2670e-01, -9.6445e-01, -9.5091e-01,  6.4418e-01,\n",
       "          9.5100e-01,  3.4321e-01,  9.9996e-01, -4.3576e-01,  9.1034e-01,\n",
       "         -5.5637e-01, -6.9426e-01,  6.4947e-01, -5.1550e-01,  8.7364e-01,\n",
       "          3.3358e-01, -4.5346e-01,  3.6242e-01, -6.3039e-01,  4.5614e-01,\n",
       "         -7.2419e-01, -3.3621e-01, -8.4889e-01, -9.2843e-01, -4.1150e-01,\n",
       "          9.3539e-01, -6.4653e-01, -9.4253e-01, -2.7113e-02, -2.9945e-01,\n",
       "         -5.6563e-01,  8.6284e-01,  8.3093e-01,  3.8030e-01, -4.5506e-01,\n",
       "          5.0525e-01,  3.2186e-01,  6.5900e-01, -7.7351e-01, -1.1949e-01,\n",
       "          4.6859e-01, -4.2744e-01, -9.0817e-01, -9.7103e-01, -5.6537e-01,\n",
       "          5.8126e-01,  9.8459e-01,  6.3310e-01,  4.3050e-01,  7.7688e-01,\n",
       "         -5.1073e-01,  7.1485e-01, -9.5559e-01,  9.8004e-01, -2.7737e-01,\n",
       "          3.7204e-01, -5.5489e-01,  3.8304e-01, -8.4670e-01,  1.3540e-01,\n",
       "          7.5547e-01, -7.4477e-01, -7.8895e-01, -1.2213e-01, -5.8012e-01,\n",
       "         -5.8656e-01, -8.8043e-01,  4.9589e-01, -4.5403e-01, -4.9307e-01,\n",
       "         -3.6018e-01,  9.2181e-01,  9.5429e-01,  7.1033e-01,  5.0530e-01,\n",
       "          7.9685e-01, -8.6780e-01, -5.0358e-01,  3.0041e-01,  3.3340e-01,\n",
       "          2.7642e-01,  9.9053e-01, -7.0787e-01, -1.7044e-01, -8.9574e-01,\n",
       "         -9.7494e-01,  1.8314e-01, -8.9864e-01, -3.2317e-01, -7.4022e-01,\n",
       "          7.6995e-01, -6.1417e-01,  6.7094e-01,  4.3886e-01, -9.2472e-01,\n",
       "         -7.1805e-01,  4.1225e-01, -5.7416e-01,  5.6308e-01, -3.2140e-01,\n",
       "          9.3176e-01,  9.4633e-01, -6.8982e-01,  2.1790e-01,  9.5008e-01,\n",
       "         -8.9076e-01, -8.7226e-01,  5.8810e-01, -4.5075e-01,  8.4514e-01,\n",
       "         -7.3430e-01,  9.8591e-01,  9.4999e-01,  6.2604e-01, -8.8036e-01,\n",
       "         -7.4188e-01, -8.3454e-01, -6.6456e-01, -3.2571e-01, -6.1392e-02,\n",
       "          9.0360e-01,  8.0644e-01,  4.7484e-01,  1.6606e-01, -6.2592e-01,\n",
       "          9.7889e-01, -8.7963e-01, -9.4652e-01, -8.5058e-01, -3.1278e-01,\n",
       "         -9.8630e-01,  9.2972e-01,  4.5347e-01,  7.6762e-01, -5.9211e-01,\n",
       "         -7.4181e-01, -9.4639e-01,  7.0466e-01,  1.8066e-01,  9.3598e-01,\n",
       "         -5.6632e-01, -8.8491e-01, -6.2538e-01, -9.0867e-01,  4.6242e-02,\n",
       "         -3.5911e-01, -5.9467e-01, -2.7238e-02, -8.9139e-01,  6.0559e-01,\n",
       "          6.5827e-01,  5.4929e-01, -8.9305e-01,  9.9456e-01,  1.0000e+00,\n",
       "          9.6836e-01,  7.9828e-01,  7.4423e-01, -9.9996e-01, -7.6997e-01,\n",
       "          1.0000e+00, -9.8963e-01, -1.0000e+00, -9.1498e-01, -7.1239e-01,\n",
       "          3.3599e-01, -1.0000e+00, -3.4036e-01, -1.6730e-01, -8.6146e-01,\n",
       "          7.2178e-01,  9.6987e-01,  9.6389e-01, -1.0000e+00,  7.7550e-01,\n",
       "          9.3089e-01, -8.0160e-01,  9.5146e-01, -6.1418e-01,  9.5184e-01,\n",
       "          5.3655e-01,  8.1829e-01, -2.7095e-01,  4.8819e-01, -9.6190e-01,\n",
       "         -8.4127e-01, -7.0016e-01, -7.4161e-01,  9.9948e-01,  3.7318e-01,\n",
       "         -8.1682e-01, -8.0858e-01,  6.1628e-01, -1.0936e-01, -5.0357e-03,\n",
       "         -9.4932e-01, -4.8230e-01,  4.4863e-01,  7.2583e-01,  2.6245e-01,\n",
       "          2.6441e-01, -6.0303e-01,  4.3420e-01,  2.1804e-01,  2.2203e-01,\n",
       "          7.9444e-01, -9.0366e-01, -4.1729e-01, -4.6873e-01, -5.4670e-02,\n",
       "         -7.3497e-01, -9.7410e-01,  9.5653e-01, -4.2854e-01,  8.5967e-01,\n",
       "          1.0000e+00,  4.1925e-01, -8.3401e-01,  7.3794e-01,  4.4226e-01,\n",
       "         -6.3594e-01,  1.0000e+00,  8.0437e-01, -9.7334e-01, -7.8804e-01,\n",
       "          6.4366e-01, -7.2156e-01, -7.4029e-01,  9.9967e-01, -4.2466e-01,\n",
       "         -8.4375e-01, -5.8213e-01,  9.7931e-01, -9.9113e-01,  9.9775e-01,\n",
       "         -7.8510e-01, -9.5482e-01,  9.4756e-01,  9.0702e-01, -7.0634e-01,\n",
       "         -8.1347e-01,  1.5667e-01, -7.2332e-01,  3.6846e-01, -8.9610e-01,\n",
       "          6.5344e-01,  5.3459e-01, -2.8975e-01,  8.6030e-01, -6.6487e-01,\n",
       "         -7.9670e-01,  4.9640e-01, -7.4079e-01, -1.6367e-01,  9.3579e-01,\n",
       "          5.3166e-01, -4.2235e-01,  5.0195e-02, -4.5733e-01, -7.9093e-01,\n",
       "         -9.6802e-01,  7.5968e-01,  1.0000e+00, -2.3148e-01,  8.0114e-01,\n",
       "         -3.8436e-01, -2.0399e-01,  1.8503e-01,  7.2009e-01,  6.4373e-01,\n",
       "         -4.4970e-01, -8.2396e-01,  8.2079e-01, -9.0071e-01, -9.8412e-01,\n",
       "          6.0986e-01,  3.0585e-01, -3.3395e-01,  1.0000e+00,  5.7197e-01,\n",
       "          3.4121e-01,  4.7453e-01,  9.8207e-01,  2.2046e-02,  4.6074e-01,\n",
       "          9.1411e-01,  9.7820e-01, -4.4061e-01,  7.9741e-01,  7.3958e-01,\n",
       "         -9.1895e-01, -3.8135e-01, -7.4034e-01,  2.0312e-01, -9.4723e-01,\n",
       "          5.3244e-03, -9.4384e-01,  9.6990e-01,  9.2388e-01,  5.9511e-01,\n",
       "          4.1474e-01,  8.5821e-01,  1.0000e+00, -9.3679e-01,  6.1296e-01,\n",
       "          1.7200e-01,  5.0107e-01, -9.9988e-01, -5.9834e-01, -4.6331e-01,\n",
       "         -1.9419e-01, -8.1908e-01, -4.6188e-01,  2.9723e-01, -9.6237e-01,\n",
       "          9.1643e-01,  6.5268e-01, -9.6744e-01, -9.7645e-01, -4.0307e-01,\n",
       "          7.3360e-01,  1.7477e-01, -9.9116e-01, -6.7377e-01, -6.4200e-01,\n",
       "          6.8274e-01, -4.7976e-01, -8.9971e-01, -4.7566e-01, -5.7208e-01,\n",
       "          5.3565e-01, -3.6403e-01,  7.8204e-01,  8.7217e-01,  7.9084e-01,\n",
       "         -9.4583e-01, -5.2590e-01, -2.5532e-01, -7.9920e-01,  7.6917e-01,\n",
       "         -7.8067e-01, -9.4905e-01, -2.9736e-01,  1.0000e+00, -1.1370e-01,\n",
       "          9.3307e-01,  3.9475e-01,  5.7814e-01, -3.4067e-01,  3.7156e-01,\n",
       "          9.5375e-01,  4.3511e-01, -6.7241e-01, -8.8432e-01,  1.8900e-02,\n",
       "         -5.1006e-01,  7.6408e-01,  7.8772e-01,  6.7545e-01,  8.4013e-01,\n",
       "          9.4541e-01,  3.4668e-01, -1.4489e-01,  8.1913e-02,  9.9708e-01,\n",
       "         -2.3915e-01, -2.0524e-01, -4.8723e-01, -3.8239e-01, -3.6254e-01,\n",
       "         -3.2606e-04,  1.0000e+00,  3.7127e-01,  7.1190e-01, -9.8686e-01,\n",
       "         -8.9449e-01, -8.6585e-01,  1.0000e+00,  8.0574e-01, -7.5231e-01,\n",
       "          5.7621e-01,  5.9034e-01, -1.9218e-01,  5.8391e-01, -3.3632e-01,\n",
       "         -4.6949e-01,  3.5949e-01,  2.7991e-01,  9.1171e-01, -5.8930e-01,\n",
       "         -9.7171e-01, -7.9698e-01,  5.6377e-01, -9.4371e-01,  9.9998e-01,\n",
       "         -7.1891e-01, -2.4415e-01, -4.7217e-01, -5.1682e-01, -2.9311e-01,\n",
       "          9.5293e-02, -9.6879e-01, -4.2159e-01,  3.9920e-01,  9.3145e-01,\n",
       "          4.5883e-01, -7.9329e-01, -9.0597e-01,  8.4482e-01,  8.7024e-01,\n",
       "         -9.2673e-01, -9.2154e-01,  9.4641e-01, -9.6057e-01,  6.0690e-01,\n",
       "          1.0000e+00,  5.1012e-01,  5.4531e-01,  3.2745e-01, -4.2204e-01,\n",
       "          5.6327e-01, -6.6723e-01,  6.8316e-01, -9.2454e-01, -5.3564e-01,\n",
       "         -3.3686e-01,  5.4339e-01, -2.6394e-01, -6.4356e-01,  6.5332e-01,\n",
       "          3.6237e-01, -7.4991e-01, -6.2042e-01, -2.5511e-01,  4.9229e-01,\n",
       "          8.1094e-01, -4.4279e-01, -2.8664e-01,  1.7538e-01, -2.0697e-01,\n",
       "         -7.7537e-01, -3.9769e-01, -5.5203e-01, -1.0000e+00,  6.8036e-01,\n",
       "         -1.0000e+00,  5.8801e-01,  2.4424e-01, -3.2088e-01,  8.5841e-01,\n",
       "          7.7242e-01,  6.7827e-01, -6.8481e-01, -9.2631e-01,  1.7525e-01,\n",
       "          7.6635e-01, -4.4455e-01, -5.3723e-01, -5.7164e-01,  4.9337e-01,\n",
       "         -2.4656e-01,  3.2783e-01, -7.0037e-01,  8.0542e-01, -3.3883e-01,\n",
       "          1.0000e+00,  2.6659e-01, -6.6485e-01, -9.0448e-01,  3.1422e-01,\n",
       "         -3.6899e-01,  1.0000e+00, -7.0771e-01, -9.5762e-01,  4.5582e-01,\n",
       "         -7.8415e-01, -7.6406e-01,  5.2593e-01,  2.0951e-01, -7.4509e-01,\n",
       "         -9.5863e-01,  8.7510e-01,  8.0073e-01, -7.5816e-01,  7.1115e-01,\n",
       "         -4.1066e-01, -6.8736e-01,  1.8988e-01,  9.5077e-01,  9.8093e-01,\n",
       "          7.1969e-01,  7.5324e-01, -2.2047e-01, -3.4369e-01,  9.5464e-01,\n",
       "          3.7250e-01,  6.1010e-03,  2.9998e-01,  1.0000e+00,  5.7313e-01,\n",
       "         -9.3644e-01,  1.3422e-02, -9.5158e-01, -3.3947e-01, -9.2565e-01,\n",
       "          4.1997e-01,  3.9357e-01,  8.6672e-01, -4.4968e-01,  9.0888e-01,\n",
       "         -9.1793e-01,  1.2705e-01, -5.9186e-01, -6.9980e-01,  5.4929e-01,\n",
       "         -9.1760e-01, -9.7614e-01, -9.7540e-01,  6.5564e-01, -5.7516e-01,\n",
       "         -1.6033e-01,  4.2072e-01,  2.2033e-01,  5.6477e-01,  5.7752e-01,\n",
       "         -1.0000e+00,  9.3464e-01,  5.9220e-01,  8.8652e-01,  9.3730e-01,\n",
       "          6.5969e-01,  7.0512e-01,  4.5068e-01, -9.7598e-01, -9.0975e-01,\n",
       "         -5.2037e-01, -4.0510e-01,  6.8324e-01,  7.9588e-01,  8.2927e-01,\n",
       "          5.0370e-01, -5.4550e-01, -5.9660e-01, -8.4179e-01, -8.5198e-01,\n",
       "         -9.9244e-01,  6.2009e-01, -6.5737e-01, -8.0807e-01,  9.5571e-01,\n",
       "         -7.9404e-02, -1.6883e-01, -2.2869e-02, -9.2714e-01,  8.2928e-01,\n",
       "          7.6578e-01,  3.1567e-01,  2.1541e-01,  4.0051e-01,  8.4327e-01,\n",
       "          9.4540e-01,  9.7865e-01, -8.7692e-01,  8.0018e-01, -7.2779e-01,\n",
       "          5.6798e-01,  9.2277e-01, -9.5537e-01,  3.2530e-01,  6.9576e-01,\n",
       "         -5.0395e-01,  3.0880e-01, -4.4732e-01, -8.1081e-01,  9.0333e-01,\n",
       "         -3.7642e-01,  5.3237e-01, -5.5481e-01, -3.4721e-02, -5.5501e-01,\n",
       "         -4.0905e-01, -8.0961e-01, -5.7714e-01,  8.1074e-01,  3.2531e-01,\n",
       "          8.7736e-01,  9.1633e-01, -1.7734e-01, -8.0448e-01, -3.4635e-01,\n",
       "         -7.4669e-01, -9.1992e-01,  8.4113e-01, -1.1817e-01, -3.3557e-01,\n",
       "          8.1555e-01,  6.8864e-02,  9.4909e-01,  3.3236e-01, -4.6472e-01,\n",
       "         -3.2803e-01, -6.9110e-01,  7.9668e-01, -8.0955e-01, -7.1407e-01,\n",
       "         -4.9692e-01,  7.7857e-01,  4.3228e-01,  1.0000e+00, -8.1744e-01,\n",
       "         -9.3908e-01, -7.8290e-01, -4.8798e-01,  5.9239e-01, -6.9601e-01,\n",
       "         -1.0000e+00,  3.9914e-01, -7.4731e-01,  7.0745e-01, -7.5012e-01,\n",
       "          8.3190e-01, -7.3472e-01, -9.6358e-01, -4.2876e-01,  7.3287e-01,\n",
       "          8.2279e-01, -5.8542e-01, -7.2081e-01,  7.4649e-01, -4.6329e-01,\n",
       "          9.7541e-01,  7.9132e-01, -5.5313e-01,  1.8975e-02,  8.3057e-01,\n",
       "         -9.0263e-01, -7.2832e-01,  8.5145e-01]], grad_fn=<TanhBackward0>), hidden_states=None, past_key_values=None, attentions=None, cross_attentions=None)"
      ]
     },
     "execution_count": 121,
     "metadata": {},
     "output_type": "execute_result"
    }
   ],
   "source": [
    "output = bert_model(**tokenized_input)\n",
    "output"
   ]
  },
  {
   "cell_type": "code",
   "execution_count": 0,
   "metadata": {
    "application/vnd.databricks.v1+cell": {
     "cellMetadata": {
      "byteLimit": 2048000,
      "rowLimit": 10000
     },
     "inputWidgets": {},
     "nuid": "03413cf2-7fa7-4e21-89f2-c6b77b147e57",
     "showTitle": false,
     "title": ""
    }
   },
   "outputs": [
    {
     "output_type": "execute_result",
     "data": {
      "text/plain": [
       "(1, 768)"
      ]
     },
     "execution_count": 130,
     "metadata": {},
     "output_type": "execute_result"
    }
   ],
   "source": [
    "embedding = output.last_hidden_state.detach().numpy()[:, 0, :]\n",
    "embedding.shape"
   ]
  },
  {
   "cell_type": "code",
   "execution_count": 0,
   "metadata": {
    "application/vnd.databricks.v1+cell": {
     "cellMetadata": {
      "byteLimit": 2048000,
      "rowLimit": 10000
     },
     "inputWidgets": {},
     "nuid": "c7a6cb62-487a-4ec8-b89c-eb383bb8a716",
     "showTitle": false,
     "title": ""
    }
   },
   "outputs": [
    {
     "output_type": "execute_result",
     "data": {
      "text/plain": [
       "array([[-5.53901792e-01, -5.99062964e-02, -3.86650622e-01,\n",
       "         1.71672598e-01, -3.02498370e-01, -6.82645679e-01,\n",
       "         2.72584464e-02,  6.25620127e-01, -2.71181855e-02,\n",
       "        -2.25335017e-01, -2.13734671e-01,  6.08832873e-02,\n",
       "        -8.00492391e-02,  1.75523072e-01, -2.11149499e-01,\n",
       "         2.49073222e-01,  9.43429321e-02,  6.28977656e-01,\n",
       "         1.94459215e-01,  2.56132841e-01, -6.48359835e-01,\n",
       "        -5.16234279e-01,  1.25005245e-01, -1.03662685e-01,\n",
       "         1.88452646e-01, -1.76306024e-01, -3.49137634e-01,\n",
       "         1.24744721e-01, -3.03795904e-01, -4.22742426e-01,\n",
       "        -3.05943191e-01,  7.24825636e-02, -1.02582388e-01,\n",
       "        -5.57676494e-01,  5.91061532e-01,  7.19033852e-02,\n",
       "         5.67032576e-01, -7.40324259e-02,  4.68637049e-02,\n",
       "         1.51682928e-01, -7.17560410e-01,  4.83835042e-02,\n",
       "         6.34507179e-01,  9.20557082e-02, -1.82615116e-01,\n",
       "        -1.79851539e-02, -3.43808842e+00, -4.36769277e-02,\n",
       "         9.54044163e-02, -2.60890752e-01,  3.65607232e-01,\n",
       "        -7.70442486e-02,  1.42067418e-01,  4.48461592e-01,\n",
       "         4.84778255e-01,  6.23253167e-01, -5.46559393e-01,\n",
       "         6.62380606e-02,  1.62332162e-01,  2.56061852e-01,\n",
       "         2.24900283e-02, -4.75985557e-02, -4.06216115e-01,\n",
       "        -1.40482560e-01,  3.38177532e-01,  9.47277546e-02,\n",
       "        -5.10659292e-02,  3.80174994e-01, -5.16630530e-01,\n",
       "         3.50713432e-01, -7.76078761e-01, -2.98529804e-01,\n",
       "         4.65272397e-01, -1.42305851e-01, -2.41625099e-03,\n",
       "         2.96684831e-01, -6.98274314e-01,  1.30225271e-01,\n",
       "        -3.78648430e-01, -2.81104088e-01, -3.74562144e-01,\n",
       "         5.66473603e-01, -1.79019898e-01, -6.14573658e-01,\n",
       "         2.55540341e-01,  6.02885246e-01, -3.90211165e-01,\n",
       "        -3.97381604e-01, -1.02014817e-01,  5.89825034e-01,\n",
       "         4.17202860e-02, -5.02598822e-01,  3.56228848e-04,\n",
       "         2.88671046e-01,  5.68394721e-01,  8.99921134e-02,\n",
       "         1.89817578e-01, -3.74479778e-02, -9.65349749e-03,\n",
       "         2.76312262e-01,  9.83695835e-02, -4.91106272e-01,\n",
       "        -2.73413002e-01, -3.85152817e-01,  1.37557369e-02,\n",
       "         1.46354198e-01, -3.60103220e-01, -2.05615625e-01,\n",
       "         7.18295649e-02, -1.89039648e+00,  6.95570648e-01,\n",
       "         7.09959641e-02, -4.09505785e-01, -5.49905412e-02,\n",
       "        -1.55922040e-01,  4.54371989e-01,  2.46419385e-01,\n",
       "        -3.28975581e-02,  3.27365398e-01, -3.03953022e-01,\n",
       "        -1.74535081e-01,  6.56132579e-01, -1.28529429e-01,\n",
       "         3.27274889e-01, -2.20430240e-01,  6.74791276e-01,\n",
       "        -1.08030744e-01,  3.92286807e-01,  9.36187565e-01,\n",
       "         2.56923866e-02,  5.50203562e-01,  6.82876766e-01,\n",
       "         3.25338840e-01, -3.27620029e-01, -5.64690530e-01,\n",
       "         1.12032004e-01,  4.58550394e-01,  3.33212502e-02,\n",
       "        -2.00766698e-01, -3.03399622e-01, -2.54121184e-01,\n",
       "        -6.39836967e-01, -2.20126343e+00, -1.57224417e-01,\n",
       "         1.16184974e+00,  1.89708814e-01,  4.62321080e-02,\n",
       "         2.00546652e-01,  1.56086043e-01,  6.21937156e-01,\n",
       "        -6.48751706e-02,  4.07440543e-01, -6.40049934e-01,\n",
       "         1.43907622e-01, -1.75682172e-01,  5.42931378e-01,\n",
       "        -7.90702999e-01, -5.89634836e-01,  2.65771925e-01,\n",
       "         2.27870658e-01,  4.72071916e-01, -2.99215298e-02,\n",
       "        -2.58262724e-01, -2.20337227e-01, -4.15874481e-01,\n",
       "         1.88067928e-01,  3.53919059e-01,  1.98002532e-01,\n",
       "         5.44507325e-01, -2.51186848e-01, -4.99283940e-01,\n",
       "         1.49421981e-02,  5.38857877e-01,  3.35997820e-01,\n",
       "         5.63449383e-01, -1.00369483e-01, -2.07908526e-01,\n",
       "        -2.18108922e-01,  4.98197041e-02,  1.57477364e-01,\n",
       "        -5.69427073e-01,  6.36132240e-01,  1.15617655e-01,\n",
       "        -1.71655759e-01,  3.40284914e-01, -3.93348485e-01,\n",
       "         8.59013021e-01,  3.02109253e-02, -3.03460240e-01,\n",
       "         8.81335810e-02,  1.20994203e-01, -2.59230167e-01,\n",
       "         3.94352317e-01,  2.41402239e-01,  9.79182124e-01,\n",
       "        -6.89850794e-03,  5.84897101e-01, -8.69208481e-03,\n",
       "        -8.54577720e-02,  3.04402292e-01, -3.79213728e-02,\n",
       "         2.92237639e-01, -6.25026673e-02, -1.20821722e-01,\n",
       "        -4.72137511e-01,  3.78754091e+00,  1.44816235e-01,\n",
       "        -4.66594100e-01, -1.95327982e-01,  3.74731570e-01,\n",
       "        -2.48061582e-01,  5.38961351e-01,  4.33142558e-02,\n",
       "        -5.73290884e-01,  4.03602332e-01, -1.74131736e-01,\n",
       "         2.87186980e-01,  3.77162337e-01, -1.98396116e-01,\n",
       "        -2.49103103e-02, -7.49308169e-02,  6.44391358e-01,\n",
       "        -3.02969724e-01,  5.21686852e-01, -3.47015440e-01,\n",
       "        -2.75793821e-01, -1.58196256e-01,  8.82346034e-01,\n",
       "         6.08837344e-02, -1.30325174e+00,  3.76208812e-01,\n",
       "        -9.74458829e-02,  3.24650437e-01,  3.86412382e-01,\n",
       "        -2.42460087e-01, -1.64399788e-01, -1.58915237e-01,\n",
       "        -6.39670938e-02,  3.13212052e-02, -9.75056589e-02,\n",
       "        -1.57744527e-01,  3.52983862e-01, -1.63407058e-01,\n",
       "         2.75783151e-01, -2.83558875e-01,  1.95125923e-01,\n",
       "         5.74364781e-01, -3.83307517e-01,  1.33576781e-01,\n",
       "        -2.96236187e-01,  6.88089907e-01, -3.94624949e-01,\n",
       "         3.04227471e-01, -4.33934122e-01,  1.11327536e-01,\n",
       "        -2.22170293e-01, -1.02389261e-01, -1.65243879e-01,\n",
       "        -7.70933211e-01,  2.05474451e-01, -5.15636742e-01,\n",
       "        -3.19926292e-01,  2.15648621e-01, -6.07891858e-01,\n",
       "        -7.72572696e-01, -4.31768656e-01, -2.59379834e-01,\n",
       "        -1.78770036e-01,  1.23727977e-01, -1.40704557e-01,\n",
       "         1.85301691e-01, -5.19990504e-01, -3.11339825e-01,\n",
       "        -3.22486877e+00, -3.28745395e-01,  4.16898131e-02,\n",
       "         3.25316101e-01,  6.46369815e-01, -5.03307819e-01,\n",
       "         2.60245847e-03, -1.61219731e-01,  3.76927108e-01,\n",
       "        -5.20066082e-01,  9.43391740e-01,  3.01325262e-01,\n",
       "        -1.88087568e-01,  8.20819512e-02, -6.18103743e-01,\n",
       "        -2.38402863e-03, -4.13884856e-02, -3.52385193e-01,\n",
       "         1.00073308e-01, -6.85829341e-01, -1.47418361e-02,\n",
       "         3.86818469e-01, -2.42462635e-01,  3.90457623e-02,\n",
       "         4.78057176e-01, -1.79675400e-01, -1.60546601e-01,\n",
       "        -2.56903201e-01, -2.93183357e-01, -2.82028079e-01,\n",
       "         3.58046312e-03, -1.00485766e-02,  5.52428514e-02,\n",
       "        -1.45232514e-01, -6.74775779e-01, -2.92870688e+00,\n",
       "        -1.40035748e-01, -3.05725634e-01, -3.05169940e-01,\n",
       "        -4.59547602e-02, -2.68554509e-01,  5.19448400e-01,\n",
       "         7.81532750e-02, -4.62616712e-01,  4.46443111e-01,\n",
       "        -3.94909322e-01, -1.10836543e-01,  9.87317860e-02,\n",
       "         1.21277392e-01,  6.17574334e-01,  5.80293059e-01,\n",
       "         5.79570174e-01, -1.70469105e-01,  3.34407151e-01,\n",
       "         6.63746417e-01, -1.29210681e-01, -2.65671760e-01,\n",
       "         1.06463060e-01,  3.34039539e-01,  3.61596107e-01,\n",
       "         3.89899999e-01, -3.13354790e-01, -1.33845191e-02,\n",
       "        -2.57219166e-01, -1.15883209e-01,  7.18221813e-03,\n",
       "         2.58169860e-01, -7.75786638e-02, -4.07573074e-01,\n",
       "        -3.29681307e-01, -4.54197854e-01, -9.05176178e-02,\n",
       "         1.31523028e-01,  7.22477317e-01,  6.45992719e-03,\n",
       "         3.50442439e-01,  1.01824224e+00, -1.89178079e-01,\n",
       "         5.37920713e-01,  7.63936400e-01,  2.23092481e-01,\n",
       "         8.47435951e-01,  3.60469818e-01,  2.72444457e-01,\n",
       "         4.08689111e-01, -1.46267757e-01, -1.72480077e-01,\n",
       "         1.23380423e+00,  6.26788139e-02, -2.67398003e-02,\n",
       "         8.28211680e-02,  5.85970104e-01,  1.59365207e-01,\n",
       "         1.04428962e-01,  1.93298832e-01,  6.81795895e-01,\n",
       "        -5.42501748e-01,  2.52588779e-01, -2.18816742e-01,\n",
       "        -3.90694439e-02, -6.00945055e-01,  4.47219163e-01,\n",
       "        -5.56633294e-01, -2.81768292e-01,  4.42543000e-01,\n",
       "        -7.28280917e-02,  6.67964935e-01,  5.15695065e-02,\n",
       "        -1.40439451e+00,  1.61557391e-01,  1.98610067e-01,\n",
       "        -4.14285690e-01,  2.11240113e-01,  3.52551997e-01,\n",
       "         1.64967105e-01, -5.23667037e-01, -4.76804793e-01,\n",
       "        -8.30880404e-01,  7.70274580e-01, -7.74213523e-02,\n",
       "        -1.84756413e-01,  4.07537334e-02, -2.38958463e-01,\n",
       "        -1.08971918e+00, -2.16384232e-01, -5.09434998e-01,\n",
       "         5.53642452e-01,  5.70761740e-01,  2.33857498e-01,\n",
       "        -2.53771812e-01,  1.24203689e-01,  9.37255502e-01,\n",
       "        -9.81829405e-01,  2.09357247e-01, -1.92780569e-01,\n",
       "        -8.64317045e-02, -4.21688348e-01,  1.43151030e-01,\n",
       "        -6.24540932e-02, -2.41360180e-02, -2.56352156e-01,\n",
       "        -4.17665064e-01, -3.98007572e-01, -2.65500247e-01,\n",
       "        -1.75524876e-01, -2.55553156e-01, -1.24306008e-01,\n",
       "        -8.77077039e-03,  3.78520072e-01,  3.63490194e-01,\n",
       "        -4.06811498e-02, -9.02917087e-02,  1.10543764e+00,\n",
       "         1.37071162e-01,  2.87660837e-01,  4.85717416e-01,\n",
       "         2.70680487e-01, -2.18468726e-01, -1.98533297e-01,\n",
       "        -2.35566407e-01, -3.37978005e-01,  3.22259337e-01,\n",
       "        -4.35193449e-01, -3.26713562e-01, -4.59474295e-01,\n",
       "         3.09157342e-01, -2.06879809e-01, -2.38532290e-01,\n",
       "        -3.80046993e-01,  5.06466627e-01, -4.48940843e-01,\n",
       "         8.56265500e-02,  3.32239926e-01,  3.20655286e-01,\n",
       "        -1.23174623e-01,  1.29377753e-01,  8.07586908e-02,\n",
       "        -3.79939020e-01,  3.63579214e-01, -1.06145171e-02,\n",
       "         6.22943640e-01, -2.03455359e-01,  2.93080453e-02,\n",
       "         1.77383721e-01,  3.95110399e-01,  2.17036128e-01,\n",
       "        -7.07331439e-03, -3.47165287e-01, -5.58175206e-01,\n",
       "         4.68837321e-01, -3.80276501e-01, -1.53536439e-01,\n",
       "        -1.42919466e-01,  3.11136901e-01, -3.76460820e-01,\n",
       "        -2.18139753e-01, -1.55661315e-01, -1.93726122e+00,\n",
       "         3.75580609e-01,  4.34640646e-01,  4.73234981e-01,\n",
       "         4.65014838e-02, -3.50756586e-01, -7.98474312e-01,\n",
       "         9.28576052e-01,  2.54797697e-01,  6.48063794e-02,\n",
       "        -3.77729356e-01, -5.30213974e-02,  1.26754135e-01,\n",
       "         3.66088241e-01,  2.81074554e-01,  1.25493005e-01,\n",
       "         2.98864871e-01, -1.64779037e-01, -1.22951530e-01,\n",
       "        -5.76453447e-01, -1.77258611e-01,  7.10656822e-01,\n",
       "         4.47484970e-01, -4.51806188e-01, -1.51055336e-01,\n",
       "        -1.85133711e-01, -2.02491656e-02,  2.53672481e-01,\n",
       "         1.72581911e-01,  2.35845581e-01, -3.04461390e-01,\n",
       "        -6.35812700e-01, -6.95516944e-01, -2.33012196e-02,\n",
       "         3.12943548e-01,  3.50968599e-01,  9.79359075e-02,\n",
       "        -5.55667102e-01,  7.91602373e-01,  4.07141775e-01,\n",
       "        -5.58865964e-01,  6.12828910e-01,  2.48429567e-01,\n",
       "         4.74404097e-01,  1.80256277e-01,  7.33735859e-01,\n",
       "        -5.72899938e-01,  2.12326616e-01, -9.10727009e-02,\n",
       "        -4.97934192e-01, -4.55406010e-01, -8.46144080e-01,\n",
       "        -3.88678730e-01, -1.31811336e-01,  8.82768631e-02,\n",
       "         5.21104271e-03,  1.37500003e-01,  4.65369001e-02,\n",
       "        -6.61956251e-01,  8.65776092e-02, -6.88066259e-02,\n",
       "        -3.34682018e-01, -4.71501440e-01, -7.19528615e-01,\n",
       "        -2.49208733e-01, -8.45071256e-01,  8.53600278e-02,\n",
       "        -6.27322316e-01, -7.67593205e-01,  1.34450346e-02,\n",
       "         7.06345022e-01, -3.91893135e-03, -3.63622665e-01,\n",
       "         1.98299974e-01, -6.75183177e-01,  5.61371088e-01,\n",
       "         7.68908337e-02, -2.02801526e-01,  1.20491080e-01,\n",
       "        -4.37616765e-01,  2.51235127e-01, -5.18303335e-01,\n",
       "        -6.02697849e-01,  4.07919019e-01, -5.78787684e-01,\n",
       "         3.57927114e-01, -2.80320257e-01, -1.34747177e-01,\n",
       "        -1.77532777e-01, -2.52171248e-01, -2.51734942e-01,\n",
       "        -6.79030120e-01,  7.46243298e-02,  1.11392345e-02,\n",
       "        -3.46630871e-01, -1.56046048e-01, -2.72151142e-01,\n",
       "         1.38132319e-01,  2.00991362e-01,  4.05043632e-01,\n",
       "        -2.70118684e-01,  5.76794088e-01,  7.86973178e-01,\n",
       "         6.55233800e-01,  1.45670339e-01, -1.30781621e-01,\n",
       "         4.83080566e-01,  1.27875373e-01, -1.13449961e-01,\n",
       "        -1.62806138e-01, -3.67501408e-01, -1.68942675e-01,\n",
       "        -9.75622237e-02, -1.17307544e-01,  2.74672210e-01,\n",
       "        -5.39861739e-01,  1.87459737e-01, -4.71669376e-01,\n",
       "         2.03305602e+00,  3.66453797e-01,  5.44823170e-01,\n",
       "         2.07703948e-01,  1.64459720e-01, -2.08546340e-01,\n",
       "        -5.14517546e-01,  2.75199383e-01, -2.40563244e-01,\n",
       "         6.13296688e-01, -3.85685205e-01,  3.84653866e-01,\n",
       "        -4.37171429e-01,  1.69830117e-02,  1.86872408e-01,\n",
       "         6.63219035e-01, -1.65333003e-01, -4.94147778e-01,\n",
       "        -6.91441178e-01,  4.00058329e-01, -3.57076377e-02,\n",
       "         1.00133479e+00,  5.71129560e-01,  4.28869501e-02,\n",
       "         5.93334973e-01,  9.48063016e-01, -3.01020890e-02,\n",
       "        -3.02536517e-01,  1.99828222e-01,  2.54041970e-01,\n",
       "        -3.65941882e-01,  7.12448955e-02,  6.81828260e-02,\n",
       "         6.47017419e-01, -3.26247871e-01, -1.61299452e-01,\n",
       "        -5.89186668e-01, -1.05489723e-01, -4.23005559e-02,\n",
       "         1.34799302e-01,  4.53419447e-01, -8.12128484e-01,\n",
       "         9.18825269e-01, -1.52647914e-02, -3.62748384e-01,\n",
       "         8.02458882e-01, -4.41132039e-01, -4.65703577e-01,\n",
       "         8.83114874e-01,  6.45045877e-01,  3.60700965e-01,\n",
       "         1.58845574e-01, -4.27517861e-01,  2.19148308e-01,\n",
       "        -3.90528768e-01, -6.58205748e-02, -6.12831349e-03,\n",
       "         3.43271829e-02, -6.20815516e-01,  1.59464106e-01,\n",
       "         2.73284554e-01,  3.32256973e-01,  7.13000357e-01,\n",
       "        -5.54892659e-01, -1.76593941e-02,  5.62136844e-02,\n",
       "        -6.52892709e-01,  3.47059935e-01, -1.33819133e-02,\n",
       "         1.58176512e-01, -1.30159825e-01,  2.81719297e-01,\n",
       "         2.78672457e-01,  5.02767801e-01,  1.76052228e-01,\n",
       "         7.26051331e-02,  4.75447923e-01,  1.67048007e-01,\n",
       "        -5.92483819e-01, -2.20021057e+00,  1.21743105e-01,\n",
       "         2.17772260e-01,  5.25801539e-01, -1.14245735e-01,\n",
       "         3.48176211e-01,  3.31151068e-01,  3.90229151e-02,\n",
       "         3.32599044e-01,  3.97340298e-01,  5.04359245e-01,\n",
       "         1.47301063e-01,  7.36033499e-01, -1.62483081e-02,\n",
       "        -2.05177069e-01,  5.77365518e-01, -9.31490387e-04,\n",
       "        -3.29854041e-01, -1.75219700e-01, -1.80635273e-01,\n",
       "         3.16014528e-01,  5.56117371e-02, -7.55870119e-02,\n",
       "        -6.84527278e-01, -4.27298009e-01, -4.11850065e-01,\n",
       "        -1.34848133e-01, -5.20972908e-01,  1.30502149e-01,\n",
       "         1.02980351e+00, -7.13169396e-01,  3.81340265e-01,\n",
       "         4.69243573e-03,  3.14834505e-01,  2.23280489e-01,\n",
       "        -4.40385371e-01, -2.71334941e-03,  4.23014760e-01,\n",
       "         6.43199384e-01,  6.38312995e-02, -7.05500126e-01,\n",
       "         3.88526410e-01, -2.00258553e-01,  1.98387191e-01,\n",
       "        -2.23561138e-01, -2.48331651e-01,  9.25215483e-01,\n",
       "        -2.37785041e-01,  8.32183063e-01, -9.53130201e-02,\n",
       "        -1.68292284e-01,  1.01657212e-01,  5.32557845e-01,\n",
       "        -5.64641804e-02,  1.98689237e-01,  3.86499465e-01,\n",
       "         1.08202982e+00, -1.22770712e-01, -7.69655257e-02,\n",
       "        -3.93878520e-01,  3.19062695e-02,  4.04576540e-01,\n",
       "        -1.03575557e-01,  5.86806178e-01,  3.89909804e-01,\n",
       "        -2.10341364e-01, -2.43314698e-01,  1.00892842e-01,\n",
       "         1.74355954e-01, -4.49920505e-01, -3.70682210e-01,\n",
       "        -2.78687179e-01,  1.75301939e-01,  3.46024305e-01,\n",
       "        -2.73152709e-01,  3.75715107e-01,  3.88555050e-01,\n",
       "        -1.11093752e-01,  3.42850029e-01,  6.30314052e-02,\n",
       "        -4.03788924e-01, -6.34016812e-01, -1.60495877e-01,\n",
       "         1.73195377e-01,  3.00316215e-01, -6.32734823e+00,\n",
       "        -4.20669496e-01, -4.44024533e-01, -5.14476061e-01,\n",
       "         6.54878616e-02, -2.91354835e-01,  3.14790964e-01,\n",
       "        -5.43112941e-02, -2.43057624e-01,  1.96144417e-01,\n",
       "        -1.64522952e-03,  1.77973241e-01, -4.68656063e-01,\n",
       "        -2.95409977e-01,  1.44808754e-01,  4.04598147e-01]], dtype=float32)"
      ]
     },
     "execution_count": 131,
     "metadata": {},
     "output_type": "execute_result"
    }
   ],
   "source": [
    "embedding"
   ]
  },
  {
   "cell_type": "code",
   "execution_count": 0,
   "metadata": {
    "application/vnd.databricks.v1+cell": {
     "cellMetadata": {
      "byteLimit": 2048000,
      "rowLimit": 10000
     },
     "inputWidgets": {},
     "nuid": "11f5a861-93c2-4b32-8cf6-79f1bb8b76e7",
     "showTitle": false,
     "title": ""
    }
   },
   "outputs": [
    {
     "output_type": "execute_result",
     "data": {
      "text/plain": [
       "array([-0.5539018 , -0.0599063 , -0.38665062,  0.1716726 , -0.30249837],\n",
       "      dtype=float32)"
      ]
     },
     "execution_count": 72,
     "metadata": {},
     "output_type": "execute_result"
    }
   ],
   "source": [
    "#get the token for the CLS token\n",
    "embedding[0][:5]"
   ]
  },
  {
   "cell_type": "markdown",
   "metadata": {
    "application/vnd.databricks.v1+cell": {
     "cellMetadata": {},
     "inputWidgets": {},
     "nuid": "62f1d91c-4506-4cf3-96bf-15f16893f990",
     "showTitle": false,
     "title": ""
    }
   },
   "source": [
    "### Embeddings are a learned numeric representation of data (text, image, video, audio, geospatial or even tabular!)\n",
    "![Embedding Generation](https://cdn.openai.com/embeddings/draft-20220124e/vectors-1.svg \"Embedding Generation\")\n",
    "\n",
    "source: https://openai.com/blog/introducing-text-and-code-embeddings"
   ]
  },
  {
   "cell_type": "markdown",
   "metadata": {
    "application/vnd.databricks.v1+cell": {
     "cellMetadata": {},
     "inputWidgets": {},
     "nuid": "6ddd9384-0bb0-4c6b-b4f4-89a7e67f6f9c",
     "showTitle": false,
     "title": ""
    }
   },
   "source": [
    "\n",
    "### Embeddings of similar strings are closer to one another\n",
    "![Embeddings](https://images.openai.com/blob/6feca3be-2b6b-4a99-9a64-34ba58980fae/Graphofsimilarembeddings.svg?width=10&height=10&quality=50 \"Embeddings\")"
   ]
  },
  {
   "cell_type": "code",
   "execution_count": 0,
   "metadata": {
    "application/vnd.databricks.v1+cell": {
     "cellMetadata": {
      "byteLimit": 2048000,
      "rowLimit": 10000
     },
     "inputWidgets": {},
     "nuid": "5ec02c18-0632-4011-a23d-d5a19ae918c2",
     "showTitle": false,
     "title": ""
    }
   },
   "outputs": [],
   "source": [
    "#wrap this into a function \n",
    "def get_embeddings(model, tokenizer,text):\n",
    "  encoded_input = tokenizer(text, return_tensors='pt')\n",
    "  with torch.no_grad():\n",
    "    output = model(**encoded_input)\n",
    "    embedding = output.last_hidden_state.detach().numpy()[:, 0, :]\n",
    "  return embedding"
   ]
  },
  {
   "cell_type": "code",
   "execution_count": 0,
   "metadata": {
    "application/vnd.databricks.v1+cell": {
     "cellMetadata": {
      "byteLimit": 2048000,
      "rowLimit": 10000
     },
     "inputWidgets": {},
     "nuid": "3511c29a-7f0f-4150-9661-fc12ded0a085",
     "showTitle": false,
     "title": ""
    }
   },
   "outputs": [
    {
     "output_type": "execute_result",
     "data": {
      "text/plain": [
       "array([-0.5539018 , -0.0599063 , -0.38665062,  0.1716726 , -0.30249837,\n",
       "       -0.6826457 ,  0.02725845,  0.6256201 , -0.02711819, -0.22533502],\n",
       "      dtype=float32)"
      ]
     },
     "execution_count": 133,
     "metadata": {},
     "output_type": "execute_result"
    }
   ],
   "source": [
    "#test this out\n",
    "get_embeddings(bert_model, bert_tokenizer, text)[0][:10]"
   ]
  },
  {
   "cell_type": "markdown",
   "metadata": {
    "application/vnd.databricks.v1+cell": {
     "cellMetadata": {},
     "inputWidgets": {},
     "nuid": "60e3ea4e-8f14-41ee-b7aa-5d88acccaf7e",
     "showTitle": false,
     "title": ""
    }
   },
   "source": [
    "A potential use is in classification or document clustering\n",
    "\n",
    "e.g.:\n",
    "![classification](https://jalammar.github.io/images/BERT-classification-spam.png \"classifier\")"
   ]
  },
  {
   "cell_type": "markdown",
   "metadata": {
    "application/vnd.databricks.v1+cell": {
     "cellMetadata": {
      "byteLimit": 2048000,
      "rowLimit": 10000
     },
     "inputWidgets": {},
     "nuid": "3eab8225-e8ca-4326-93c4-cd297650c036",
     "showTitle": false,
     "title": ""
    }
   },
   "source": [
    "## GPT-2 - February 2019"
   ]
  },
  {
   "cell_type": "markdown",
   "metadata": {
    "application/vnd.databricks.v1+cell": {
     "cellMetadata": {
      "byteLimit": 2048000,
      "rowLimit": 10000
     },
     "inputWidgets": {},
     "nuid": "85967efb-186f-462f-960a-7123b2dad862",
     "showTitle": false,
     "title": ""
    }
   },
   "source": [
    "![GPT2](https://jalammar.github.io/images/xlnet/gpt-2-output.gif \"GPT2\")"
   ]
  },
  {
   "cell_type": "markdown",
   "metadata": {
    "application/vnd.databricks.v1+cell": {
     "cellMetadata": {
      "byteLimit": 2048000,
      "rowLimit": 10000
     },
     "inputWidgets": {},
     "nuid": "4f619ed5-bd0c-4cca-94a8-34d64a291436",
     "showTitle": false,
     "title": ""
    }
   },
   "source": [
    "![GPT2](https://jalammar.github.io/images/xlnet/gpt-2-autoregression-2.gif \"GPT2\")"
   ]
  },
  {
   "cell_type": "code",
   "execution_count": 0,
   "metadata": {
    "application/vnd.databricks.v1+cell": {
     "cellMetadata": {
      "byteLimit": 2048000,
      "rowLimit": 10000
     },
     "inputWidgets": {},
     "nuid": "887ea955-55bf-40a1-8879-a252431925d2",
     "showTitle": false,
     "title": ""
    }
   },
   "outputs": [
    {
     "output_type": "execute_result",
     "data": {
      "text/plain": [
       "124439808"
      ]
     },
     "execution_count": 134,
     "metadata": {},
     "output_type": "execute_result"
    }
   ],
   "source": [
    "from transformers import GPT2Tokenizer, GPT2LMHeadModel\n",
    "\n",
    "# Load pre-trained model tokenizer and model\n",
    "tokenizer = GPT2Tokenizer.from_pretrained('gpt2')\n",
    "model = GPT2LMHeadModel.from_pretrained('gpt2')\n",
    "\n",
    "model.num_parameters()"
   ]
  },
  {
   "cell_type": "code",
   "execution_count": 0,
   "metadata": {
    "application/vnd.databricks.v1+cell": {
     "cellMetadata": {
      "byteLimit": 2048000,
      "rowLimit": 10000
     },
     "inputWidgets": {},
     "nuid": "b250c98f-7c63-463d-aefe-54ead87e32ce",
     "showTitle": false,
     "title": ""
    }
   },
   "outputs": [
    {
     "output_type": "stream",
     "name": "stderr",
     "output_type": "stream",
     "text": [
      "The attention mask and the pad token id were not set. As a consequence, you may observe unexpected behavior. Please pass your input's `attention_mask` to obtain reliable results.\nSetting `pad_token_id` to `eos_token_id`:50256 for open-end generation.\n"
     ]
    },
    {
     "output_type": "stream",
     "name": "stdout",
     "output_type": "stream",
     "text": [
      "Emzyme is a cool way to do it.\n\nThe first thing you need to do is to add the following to your.bashrc file:\n\n#!/bin/bash # This will create a new file called \"scripts/scripts\n"
     ]
    }
   ],
   "source": [
    "# Encode text input\n",
    "text = \"Emzyme is a cool way to do\"\n",
    "encoded_input = tokenizer.encode(text, return_tensors='pt')\n",
    "\n",
    "# Generate text\n",
    "output = model.generate(encoded_input, max_length=50, num_return_sequences=1)\n",
    "\n",
    "# Decode the generated text\n",
    "generated_text = tokenizer.decode(output[0], skip_special_tokens=True)\n",
    "print(generated_text)\n"
   ]
  },
  {
   "cell_type": "code",
   "execution_count": 0,
   "metadata": {
    "application/vnd.databricks.v1+cell": {
     "cellMetadata": {
      "byteLimit": 2048000,
      "rowLimit": 10000
     },
     "inputWidgets": {},
     "nuid": "ffb180d2-e1b9-472c-ae04-da3983da3723",
     "showTitle": false,
     "title": ""
    }
   },
   "outputs": [],
   "source": [
    "from transformers import pipeline, set_seed\n",
    "generator = pipeline('text-generation', model='gpt2-large')\n",
    "set_seed(42)\n"
   ]
  },
  {
   "cell_type": "code",
   "execution_count": 0,
   "metadata": {
    "application/vnd.databricks.v1+cell": {
     "cellMetadata": {
      "byteLimit": 2048000,
      "rowLimit": 10000
     },
     "inputWidgets": {},
     "nuid": "a6b106de-26af-4c5d-82bb-fc6e2bbefe9a",
     "showTitle": false,
     "title": ""
    }
   },
   "outputs": [
    {
     "output_type": "stream",
     "name": "stderr",
     "output_type": "stream",
     "text": [
      "Setting `pad_token_id` to `eos_token_id`:50256 for open-end generation.\n"
     ]
    },
    {
     "output_type": "execute_result",
     "data": {
      "text/plain": [
       "[{'generated_text': \"Write an email informing a customer about Enzyme in DLT. Be Concise\\n\\nYou've been working with the company for months now and are confident with its reputation. The emails will be consistent. Follow up with a question if there are any questions. Be Concise\\n\\nYour message has been forwarded to a member of the team; send a follow-up email to check their contact. Be Concise\\n\\nYour message has been forwarded to a member of the team. Be Concise\"}]"
      ]
     },
     "execution_count": 5,
     "metadata": {},
     "output_type": "execute_result"
    }
   ],
   "source": [
    "#Attempt 1\n",
    "text = \"Write an email informing a customer about Enzyme in DLT. Be Concise\"\n",
    "output = generator(text, max_length=100, num_return_sequences=1)\n",
    "output"
   ]
  },
  {
   "cell_type": "code",
   "execution_count": 0,
   "metadata": {
    "application/vnd.databricks.v1+cell": {
     "cellMetadata": {
      "byteLimit": 2048000,
      "rowLimit": 10000
     },
     "inputWidgets": {},
     "nuid": "96c2ee32-a653-418e-9fd6-8e7460e82e03",
     "showTitle": false,
     "title": ""
    }
   },
   "outputs": [
    {
     "output_type": "stream",
     "name": "stdout",
     "output_type": "stream",
     "text": [
      "Here's a concise email informing a customer about Enzyme in DLT.\n Dear Customer,  you will receive your new Enzyme DLT products shortly after shipment. You may also contact the sales team at enzyme@enzyme.com to arrange your delivery. If you encounter any issues, please contact the company as soon as possible at (0071-4270-3436) or (02-862-0890) to get an item status. You will be eligible\n"
     ]
    }
   ],
   "source": [
    "#Attempt 2\n",
    "text = \"Here's a concise email informing a customer about Enzyme in DLT.\\n Dear Customer, \"\n",
    "output = generator(text, max_length=100, num_return_sequences=1)\n",
    "print(output[0]['generated_text'])"
   ]
  },
  {
   "cell_type": "markdown",
   "metadata": {
    "application/vnd.databricks.v1+cell": {
     "cellMetadata": {},
     "inputWidgets": {},
     "nuid": "638a14fa-96d6-48ad-bfeb-5e4a526187bf",
     "showTitle": false,
     "title": ""
    }
   },
   "source": [
    "#### GPT-3 which was released in June 2020 is a (much) bigger version of this"
   ]
  },
  {
   "cell_type": "markdown",
   "metadata": {
    "application/vnd.databricks.v1+cell": {
     "cellMetadata": {},
     "inputWidgets": {},
     "nuid": "ef6799c4-d3bd-43b5-87b2-ca1e4cfacdb2",
     "showTitle": false,
     "title": ""
    }
   },
   "source": [
    "### Fast forward to 2023: Instruction finetuning"
   ]
  },
  {
   "cell_type": "markdown",
   "metadata": {
    "application/vnd.databricks.v1+cell": {
     "cellMetadata": {},
     "inputWidgets": {},
     "nuid": "59e61edd-1d31-491f-aca5-56cd54b82ae2",
     "showTitle": false,
     "title": ""
    }
   },
   "source": [
    "![Fine-tuning](https://substackcdn.com/image/fetch/f_auto,q_auto:good,fl_progressive:steep/https%3A%2F%2Fsubstack-post-media.s3.amazonaws.com%2Fpublic%2Fimages%2Fc4935aa8-722e-4461-9e9e-88341b5558f6_1379x446.png \"fine-tuning\")"
   ]
  },
  {
   "cell_type": "code",
   "execution_count": 0,
   "metadata": {
    "application/vnd.databricks.v1+cell": {
     "cellMetadata": {
      "byteLimit": 2048000,
      "rowLimit": 10000
     },
     "inputWidgets": {},
     "nuid": "8486d7d0-eed8-410d-afd7-44b85d2c836a",
     "showTitle": false,
     "title": ""
    }
   },
   "outputs": [
    {
     "output_type": "stream",
     "name": "stdout",
     "output_type": "stream",
     "text": [
      "Subject: Introduction to Enzyme and its Role in Distributed Ledger Technology\n\nDear [Customer's Name],\n\nI hope this email finds you well. I am writing to introduce you to Enzyme, a cutting-edge technology that is revolutionizing the world of distributed ledger technology (DLT).\n\nEnzyme is an open-source, decentralized platform that enables the creation and management of digital assets and smart contracts. It is built on top of the Ethereum blockchain and utilizes a unique consensus algorithm called \"Proof of Stake\" (PoS) to validate transactions and maintain the network's security.\n\nEnzyme's primary goal is to provide a more efficient, secure, and scalable platform for the development and deployment of decentralized applications (dApps). It offers a wide range of features, including built-in privacy, high transaction throughput, and low fees, making it an attractive alternative to traditional blockchain platforms.\n\nOne of the key benefits of Enzyme is its ability to support the creation of custom tokens and smart contracts. This feature enables developers to build a wide range of dApps, from decentralized exchanges and prediction markets to gaming platforms and social networks.\n\nEnzyme's PoS consensus algorithm also offers several advantages over traditional Proof of Work (PoW) systems. It is more energy-efficient, reducing the environmental impact of blockchain technology. It also enables faster transaction confirmation times and lower fees, making it more accessible to a wider range of users.\n\nOverall, Enzyme is an exciting and innovative platform that is well-positioned to play a significant role in the future of DLT. If you are interested in learning more about Enzyme and its potential applications, I would be happy to provide you with additional resources and information.\n\nThank you for your time and consideration.\n\nBest regards,\n\n[Your Name]\n[Your Position]\n[Your Contact Information]\n"
     ]
    }
   ],
   "source": [
    "dbrx_url = \"https://<workspace-id>.databricks.com/serving-endpoints/databricks-dbrx-instruct/invocations\"\n",
    "output = generate(dbrx_url, databricks_token, system_prompt, user_message)\n",
    "print(output)"
   ]
  },
  {
   "cell_type": "markdown",
   "metadata": {
    "application/vnd.databricks.v1+cell": {
     "cellMetadata": {},
     "inputWidgets": {},
     "nuid": "aa23a06d-1f8b-44ff-a8d5-4324b6917138",
     "showTitle": false,
     "title": ""
    }
   },
   "source": [
    "### Enter RAG: Why context is everything for reliable and repeatable use cases"
   ]
  },
  {
   "cell_type": "markdown",
   "metadata": {
    "application/vnd.databricks.v1+cell": {
     "cellMetadata": {},
     "inputWidgets": {},
     "nuid": "2182475e-eaa6-405d-90cf-b163465c306b",
     "showTitle": false,
     "title": ""
    }
   },
   "source": [
    "#### Let's start with Context\n",
    "\n",
    "Before RAG, let's start with roots of RAG: providing context. \n",
    "Let's get a passage that describes what Enzyme is from here: https://www.databricks.com/blog/2022/06/29/delta-live-tables-announces-new-capabilities-and-performance-optimizations.html"
   ]
  },
  {
   "cell_type": "code",
   "execution_count": 0,
   "metadata": {
    "application/vnd.databricks.v1+cell": {
     "cellMetadata": {
      "byteLimit": 2048000,
      "rowLimit": 10000
     },
     "inputWidgets": {},
     "nuid": "283c68f0-6eed-4f47-a716-4ce23476627d",
     "showTitle": false,
     "title": ""
    }
   },
   "outputs": [],
   "source": [
    "context = \"\"\"Transforming data to prepare it for downstream analysis is a prerequisite for most other workloads on the Databricks platform. While SQL and DataFrames make it relatively easy for users to express their transformations, the input data constantly changes. This requires recomputation of the tables produced by ETL. Recomputing the results from scratch is simple, but often cost-prohibitive at the scale many of our customers operate.\n",
    "\n",
    "We are pleased to announce that we are developing project Enzyme, a new optimization layer for ETL. Enzyme efficiently keeps up-to-date a materialization of the results of a given query stored in a Delta table. It uses a cost model to choose between various techniques, including techniques used in traditional materialized views, delta-to-delta streaming, and manual ETL patterns commonly used by our customers.\"\"\""
   ]
  },
  {
   "cell_type": "code",
   "execution_count": 0,
   "metadata": {
    "application/vnd.databricks.v1+cell": {
     "cellMetadata": {
      "byteLimit": 2048000,
      "rowLimit": 10000
     },
     "inputWidgets": {},
     "nuid": "dfce4ebc-ba73-4c5b-96f1-7f8e4c16d186",
     "showTitle": false,
     "title": ""
    }
   },
   "outputs": [],
   "source": [
    "formatted_text =   \"\"\"Given the following context\n",
    "\n",
    "  {context}\n",
    "\n",
    "  given the above context,\n",
    "\n",
    "  {user_message} [/INST]\n",
    "  \"\"\"\n",
    "\n",
    "system_prompt = \"You are a helpful, respectful and honest assistant. Always answer as helpfully as possible, while being safe.  Your answers should not include any harmful, unethical, racist, sexist, toxic, dangerous, or illegal content. Please ensure that your responses are socially unbiased and positive in nature.\"\n",
    "\n",
    "user_message = \"Write an email informing a customer about Enzyme in DLT. Be Concise\"\n",
    "#user_message = \"Write me a verse about Databricks in the style of Outkast\""
   ]
  },
  {
   "cell_type": "code",
   "execution_count": 0,
   "metadata": {
    "application/vnd.databricks.v1+cell": {
     "cellMetadata": {
      "byteLimit": 2048000,
      "rowLimit": 10000
     },
     "inputWidgets": {},
     "nuid": "fe43641b-f133-4735-b9b1-cf2aa1dc1937",
     "showTitle": false,
     "title": ""
    }
   },
   "outputs": [
    {
     "output_type": "stream",
     "name": "stdout",
     "output_type": "stream",
     "text": [
      "Given the following context\n\n  Transforming data to prepare it for downstream analysis is a prerequisite for most other workloads on the Databricks platform. While SQL and DataFrames make it relatively easy for users to express their transformations, the input data constantly changes. This requires recomputation of the tables produced by ETL. Recomputing the results from scratch is simple, but often cost-prohibitive at the scale many of our customers operate.\n\nWe are pleased to announce that we are developing project Enzyme, a new optimization layer for ETL. Enzyme efficiently keeps up-to-date a materialization of the results of a given query stored in a Delta table. It uses a cost model to choose between various techniques, including techniques used in traditional materialized views, delta-to-delta streaming, and manual ETL patterns commonly used by our customers.\n\n  given the above context,\n\n  Write an email informing a customer about Enzyme in DLT. Be Concise [/INST]\n  \n"
     ]
    }
   ],
   "source": [
    "formatted_text = formatted_text.format(context = context, user_message = user_message)\n",
    "print(formatted_text)"
   ]
  },
  {
   "cell_type": "code",
   "execution_count": 0,
   "metadata": {
    "application/vnd.databricks.v1+cell": {
     "cellMetadata": {
      "byteLimit": 2048000,
      "rowLimit": 10000
     },
     "inputWidgets": {},
     "nuid": "f6216afe-24c2-4f9c-9f1e-e3ad174382aa",
     "showTitle": false,
     "title": ""
    }
   },
   "outputs": [
    {
     "output_type": "stream",
     "name": "stdout",
     "output_type": "stream",
     "text": [
      "Subject: Introducing Project Enzyme: Optimizing ETL on Databricks\n\nDear [Customer],\n\nI hope this email finds you well. I am excited to share some news about an upcoming project on the Databricks platform that I believe will greatly benefit your data transformation and analysis workloads.\n\nProject Enzyme is a new optimization layer for ETL that efficiently maintains up-to-date materializations of query results stored in Delta tables. By utilizing a cost model, Enzyme selects the most efficient techniques, such as those used in traditional materialized views, delta-to-delta streaming, and manual ETL patterns commonly employed by our customers.\n\nWith Enzyme, you can expect improved performance and reduced costs for your ETL workloads, as it minimizes the need for recomputing tables from scratch. This feature will be particularly beneficial for customers operating at scale.\n\nWe are committed to continuously enhancing the Databricks platform to better serve your needs, and we believe Project Enzyme will be a valuable addition. We will keep you updated on its development and availability.\n\nShould you have any questions or concerns, please don't hesitate to reach out. I am always here to help.\n\nBest regards,\n\n[Your Name]\n[Your Position]\n"
     ]
    }
   ],
   "source": [
    "output = generate(dbrx_url, databricks_token, system_prompt, formatted_text)\n",
    "print(output)"
   ]
  },
  {
   "cell_type": "markdown",
   "metadata": {
    "application/vnd.databricks.v1+cell": {
     "cellMetadata": {},
     "inputWidgets": {},
     "nuid": "9d73011d-433b-4e87-834e-0bf0f956e4ae",
     "showTitle": false,
     "title": ""
    }
   },
   "source": [
    "This is basically 'Augmented Generation' i.e. AG in RAG. Let's move into R i.e. retrieval"
   ]
  },
  {
   "cell_type": "markdown",
   "metadata": {
    "application/vnd.databricks.v1+cell": {
     "cellMetadata": {},
     "inputWidgets": {},
     "nuid": "b280cff3-d8c9-4989-a502-299d50bd29ac",
     "showTitle": false,
     "title": ""
    }
   },
   "source": [
    "### RAG!!!\n",
    "\n",
    "#### Retrieval Augmented Generation\n",
    "\n",
    "Let's build simple RAG system fro scratch"
   ]
  },
  {
   "cell_type": "code",
   "execution_count": 0,
   "metadata": {
    "application/vnd.databricks.v1+cell": {
     "cellMetadata": {
      "byteLimit": 2048000,
      "rowLimit": 10000
     },
     "inputWidgets": {},
     "nuid": "910c1f1f-ce5f-4222-b444-8b3325f1f50a",
     "showTitle": false,
     "title": ""
    }
   },
   "outputs": [
    {
     "output_type": "execute_result",
     "data": {
      "text/plain": [
       "[\"Popeye the Sailor Man is a fictional cartoon character created by Elzie Crisler Segar.[40][41][42][43] The character first appeared on January 17, 1929, in the daily King Features comic strip Thimble Theatre. The strip was in its tenth year when Popeye made his debut, but the one-eyed sailor quickly became the lead character, and Thimble Theatre became one of King Features' most popular properties during the 1930s. Following Segar's death in 1938, Thimble Theatre was continued by several writers and artists, most notably Segar's assistant Bud Sagendorf. It was formally renamed Popeye. The strip continues to appear in first-run installments on Sundays, written and drawn by R.K. Milholland. The daily strips are reprints of old Sagendorf stories.\",\n",
       " 'Transforming data to prepare it for downstream analysis is a prerequisite for most other workloads on the Databricks platform. While SQL and DataFrames make it relatively easy for users to express their transformations, the input data constantly changes. This requires recomputation of the tables produced by ETL. Recomputing the results from scratch is simple, but often cost-prohibitive at the scale many of our customers operate. We are pleased to announce that we are developing project Enzyme, a new optimization layer for ETL. Enzyme efficiently keeps up-to-date a materialization of the results of a given query stored in a Delta table. It uses a cost model to choose between various techniques, including techniques used in traditional materialized views, delta-to-delta streaming, and manual ETL patterns commonly used by our customers.',\n",
       " \"The Philadelphia Eagles are a professional American football team based in Philadelphia. The Eagles compete in the National Football League (NFL) as a member club of the league's National Football Conference (NFC) East division. The team plays its home games at Lincoln Financial Field in the South Philadelphia Sports Complex.[7]\",\n",
       " 'Databricks, Inc. is an American enterprise software company founded by the creators of Apache Spark.[2] Databricks develops a web-based platform for working with Spark, that provides automated cluster management and IPython-style notebooks. The company develops Delta Lake, an open-source project to bring reliability to data lakes for machine learning and other data science use cases.[3]',\n",
       " \"The Ferrari Roma (Type F169) is a grand touring car by Italian manufacturer Ferrari. It has a front mid-engine, rear-wheel-drive layout with a turbocharged V8 engine and a 2+2 seating arrangement.[1] Based on the Ferrari Portofino, the car is placed between the Portofino and the F8 Tributo in Ferrari's range of sports cars.\"]"
      ]
     },
     "execution_count": 97,
     "metadata": {},
     "output_type": "execute_result"
    }
   ],
   "source": [
    "source_passages = [\"Popeye the Sailor Man is a fictional cartoon character created by Elzie Crisler Segar.[40][41][42][43] The character first appeared on January 17, 1929, in the daily King Features comic strip Thimble Theatre. The strip was in its tenth year when Popeye made his debut, but the one-eyed sailor quickly became the lead character, and Thimble Theatre became one of King Features' most popular properties during the 1930s. Following Segar's death in 1938, Thimble Theatre was continued by several writers and artists, most notably Segar's assistant Bud Sagendorf. It was formally renamed Popeye. The strip continues to appear in first-run installments on Sundays, written and drawn by R.K. Milholland. The daily strips are reprints of old Sagendorf stories.\",\"Transforming data to prepare it for downstream analysis is a prerequisite for most other workloads on the Databricks platform. While SQL and DataFrames make it relatively easy for users to express their transformations, the input data constantly changes. This requires recomputation of the tables produced by ETL. Recomputing the results from scratch is simple, but often cost-prohibitive at the scale many of our customers operate. We are pleased to announce that we are developing project Enzyme, a new optimization layer for ETL. Enzyme efficiently keeps up-to-date a materialization of the results of a given query stored in a Delta table. It uses a cost model to choose between various techniques, including techniques used in traditional materialized views, delta-to-delta streaming, and manual ETL patterns commonly used by our customers.\",\"The Philadelphia Eagles are a professional American football team based in Philadelphia. The Eagles compete in the National Football League (NFL) as a member club of the league's National Football Conference (NFC) East division. The team plays its home games at Lincoln Financial Field in the South Philadelphia Sports Complex.[7]\", \"Databricks, Inc. is an American enterprise software company founded by the creators of Apache Spark.[2] Databricks develops a web-based platform for working with Spark, that provides automated cluster management and IPython-style notebooks. The company develops Delta Lake, an open-source project to bring reliability to data lakes for machine learning and other data science use cases.[3]\", \"The Ferrari Roma (Type F169) is a grand touring car by Italian manufacturer Ferrari. It has a front mid-engine, rear-wheel-drive layout with a turbocharged V8 engine and a 2+2 seating arrangement.[1] Based on the Ferrari Portofino, the car is placed between the Portofino and the F8 Tributo in Ferrari's range of sports cars.\" ]\n",
    "source_passages "
   ]
  },
  {
   "cell_type": "code",
   "execution_count": 0,
   "metadata": {
    "application/vnd.databricks.v1+cell": {
     "cellMetadata": {
      "byteLimit": 2048000,
      "rowLimit": 10000
     },
     "inputWidgets": {},
     "nuid": "87cd8a71-823e-4c04-9636-446991539da8",
     "showTitle": false,
     "title": ""
    }
   },
   "outputs": [],
   "source": [
    "passage_embeddings = [get_embeddings(bert_model, bert_tokenizer, passage) for passage in source_passages]\n",
    "# passage_embeddings[0]"
   ]
  },
  {
   "cell_type": "code",
   "execution_count": 0,
   "metadata": {
    "application/vnd.databricks.v1+cell": {
     "cellMetadata": {
      "byteLimit": 2048000,
      "rowLimit": 10000
     },
     "inputWidgets": {},
     "nuid": "de043f79-27f6-44dc-ba99-aecc88638914",
     "showTitle": false,
     "title": ""
    }
   },
   "outputs": [],
   "source": [
    "query_text = \"Write an email informing a customer about Enzyme in DLT. Be Concise\""
   ]
  },
  {
   "cell_type": "code",
   "execution_count": 0,
   "metadata": {
    "application/vnd.databricks.v1+cell": {
     "cellMetadata": {
      "byteLimit": 2048000,
      "rowLimit": 10000
     },
     "inputWidgets": {},
     "nuid": "594c67e0-7e65-4c08-a395-012a864a9289",
     "showTitle": false,
     "title": ""
    }
   },
   "outputs": [
    {
     "output_type": "execute_result",
     "data": {
      "text/plain": [
       "array([[-5.53901792e-01, -5.99062964e-02, -3.86650622e-01,\n",
       "         1.71672598e-01, -3.02498370e-01, -6.82645679e-01,\n",
       "         2.72584464e-02,  6.25620127e-01, -2.71181855e-02,\n",
       "        -2.25335017e-01, -2.13734671e-01,  6.08832873e-02,\n",
       "        -8.00492391e-02,  1.75523072e-01, -2.11149499e-01,\n",
       "         2.49073222e-01,  9.43429321e-02,  6.28977656e-01,\n",
       "         1.94459215e-01,  2.56132841e-01, -6.48359835e-01,\n",
       "        -5.16234279e-01,  1.25005245e-01, -1.03662685e-01,\n",
       "         1.88452646e-01, -1.76306024e-01, -3.49137634e-01,\n",
       "         1.24744721e-01, -3.03795904e-01, -4.22742426e-01,\n",
       "        -3.05943191e-01,  7.24825636e-02, -1.02582388e-01,\n",
       "        -5.57676494e-01,  5.91061532e-01,  7.19033852e-02,\n",
       "         5.67032576e-01, -7.40324259e-02,  4.68637049e-02,\n",
       "         1.51682928e-01, -7.17560410e-01,  4.83835042e-02,\n",
       "         6.34507179e-01,  9.20557082e-02, -1.82615116e-01,\n",
       "        -1.79851539e-02, -3.43808842e+00, -4.36769277e-02,\n",
       "         9.54044163e-02, -2.60890752e-01,  3.65607232e-01,\n",
       "        -7.70442486e-02,  1.42067418e-01,  4.48461592e-01,\n",
       "         4.84778255e-01,  6.23253167e-01, -5.46559393e-01,\n",
       "         6.62380606e-02,  1.62332162e-01,  2.56061852e-01,\n",
       "         2.24900283e-02, -4.75985557e-02, -4.06216115e-01,\n",
       "        -1.40482560e-01,  3.38177532e-01,  9.47277546e-02,\n",
       "        -5.10659292e-02,  3.80174994e-01, -5.16630530e-01,\n",
       "         3.50713432e-01, -7.76078761e-01, -2.98529804e-01,\n",
       "         4.65272397e-01, -1.42305851e-01, -2.41625099e-03,\n",
       "         2.96684831e-01, -6.98274314e-01,  1.30225271e-01,\n",
       "        -3.78648430e-01, -2.81104088e-01, -3.74562144e-01,\n",
       "         5.66473603e-01, -1.79019898e-01, -6.14573658e-01,\n",
       "         2.55540341e-01,  6.02885246e-01, -3.90211165e-01,\n",
       "        -3.97381604e-01, -1.02014817e-01,  5.89825034e-01,\n",
       "         4.17202860e-02, -5.02598822e-01,  3.56228848e-04,\n",
       "         2.88671046e-01,  5.68394721e-01,  8.99921134e-02,\n",
       "         1.89817578e-01, -3.74479778e-02, -9.65349749e-03,\n",
       "         2.76312262e-01,  9.83695835e-02, -4.91106272e-01,\n",
       "        -2.73413002e-01, -3.85152817e-01,  1.37557369e-02,\n",
       "         1.46354198e-01, -3.60103220e-01, -2.05615625e-01,\n",
       "         7.18295649e-02, -1.89039648e+00,  6.95570648e-01,\n",
       "         7.09959641e-02, -4.09505785e-01, -5.49905412e-02,\n",
       "        -1.55922040e-01,  4.54371989e-01,  2.46419385e-01,\n",
       "        -3.28975581e-02,  3.27365398e-01, -3.03953022e-01,\n",
       "        -1.74535081e-01,  6.56132579e-01, -1.28529429e-01,\n",
       "         3.27274889e-01, -2.20430240e-01,  6.74791276e-01,\n",
       "        -1.08030744e-01,  3.92286807e-01,  9.36187565e-01,\n",
       "         2.56923866e-02,  5.50203562e-01,  6.82876766e-01,\n",
       "         3.25338840e-01, -3.27620029e-01, -5.64690530e-01,\n",
       "         1.12032004e-01,  4.58550394e-01,  3.33212502e-02,\n",
       "        -2.00766698e-01, -3.03399622e-01, -2.54121184e-01,\n",
       "        -6.39836967e-01, -2.20126343e+00, -1.57224417e-01,\n",
       "         1.16184974e+00,  1.89708814e-01,  4.62321080e-02,\n",
       "         2.00546652e-01,  1.56086043e-01,  6.21937156e-01,\n",
       "        -6.48751706e-02,  4.07440543e-01, -6.40049934e-01,\n",
       "         1.43907622e-01, -1.75682172e-01,  5.42931378e-01,\n",
       "        -7.90702999e-01, -5.89634836e-01,  2.65771925e-01,\n",
       "         2.27870658e-01,  4.72071916e-01, -2.99215298e-02,\n",
       "        -2.58262724e-01, -2.20337227e-01, -4.15874481e-01,\n",
       "         1.88067928e-01,  3.53919059e-01,  1.98002532e-01,\n",
       "         5.44507325e-01, -2.51186848e-01, -4.99283940e-01,\n",
       "         1.49421981e-02,  5.38857877e-01,  3.35997820e-01,\n",
       "         5.63449383e-01, -1.00369483e-01, -2.07908526e-01,\n",
       "        -2.18108922e-01,  4.98197041e-02,  1.57477364e-01,\n",
       "        -5.69427073e-01,  6.36132240e-01,  1.15617655e-01,\n",
       "        -1.71655759e-01,  3.40284914e-01, -3.93348485e-01,\n",
       "         8.59013021e-01,  3.02109253e-02, -3.03460240e-01,\n",
       "         8.81335810e-02,  1.20994203e-01, -2.59230167e-01,\n",
       "         3.94352317e-01,  2.41402239e-01,  9.79182124e-01,\n",
       "        -6.89850794e-03,  5.84897101e-01, -8.69208481e-03,\n",
       "        -8.54577720e-02,  3.04402292e-01, -3.79213728e-02,\n",
       "         2.92237639e-01, -6.25026673e-02, -1.20821722e-01,\n",
       "        -4.72137511e-01,  3.78754091e+00,  1.44816235e-01,\n",
       "        -4.66594100e-01, -1.95327982e-01,  3.74731570e-01,\n",
       "        -2.48061582e-01,  5.38961351e-01,  4.33142558e-02,\n",
       "        -5.73290884e-01,  4.03602332e-01, -1.74131736e-01,\n",
       "         2.87186980e-01,  3.77162337e-01, -1.98396116e-01,\n",
       "        -2.49103103e-02, -7.49308169e-02,  6.44391358e-01,\n",
       "        -3.02969724e-01,  5.21686852e-01, -3.47015440e-01,\n",
       "        -2.75793821e-01, -1.58196256e-01,  8.82346034e-01,\n",
       "         6.08837344e-02, -1.30325174e+00,  3.76208812e-01,\n",
       "        -9.74458829e-02,  3.24650437e-01,  3.86412382e-01,\n",
       "        -2.42460087e-01, -1.64399788e-01, -1.58915237e-01,\n",
       "        -6.39670938e-02,  3.13212052e-02, -9.75056589e-02,\n",
       "        -1.57744527e-01,  3.52983862e-01, -1.63407058e-01,\n",
       "         2.75783151e-01, -2.83558875e-01,  1.95125923e-01,\n",
       "         5.74364781e-01, -3.83307517e-01,  1.33576781e-01,\n",
       "        -2.96236187e-01,  6.88089907e-01, -3.94624949e-01,\n",
       "         3.04227471e-01, -4.33934122e-01,  1.11327536e-01,\n",
       "        -2.22170293e-01, -1.02389261e-01, -1.65243879e-01,\n",
       "        -7.70933211e-01,  2.05474451e-01, -5.15636742e-01,\n",
       "        -3.19926292e-01,  2.15648621e-01, -6.07891858e-01,\n",
       "        -7.72572696e-01, -4.31768656e-01, -2.59379834e-01,\n",
       "        -1.78770036e-01,  1.23727977e-01, -1.40704557e-01,\n",
       "         1.85301691e-01, -5.19990504e-01, -3.11339825e-01,\n",
       "        -3.22486877e+00, -3.28745395e-01,  4.16898131e-02,\n",
       "         3.25316101e-01,  6.46369815e-01, -5.03307819e-01,\n",
       "         2.60245847e-03, -1.61219731e-01,  3.76927108e-01,\n",
       "        -5.20066082e-01,  9.43391740e-01,  3.01325262e-01,\n",
       "        -1.88087568e-01,  8.20819512e-02, -6.18103743e-01,\n",
       "        -2.38402863e-03, -4.13884856e-02, -3.52385193e-01,\n",
       "         1.00073308e-01, -6.85829341e-01, -1.47418361e-02,\n",
       "         3.86818469e-01, -2.42462635e-01,  3.90457623e-02,\n",
       "         4.78057176e-01, -1.79675400e-01, -1.60546601e-01,\n",
       "        -2.56903201e-01, -2.93183357e-01, -2.82028079e-01,\n",
       "         3.58046312e-03, -1.00485766e-02,  5.52428514e-02,\n",
       "        -1.45232514e-01, -6.74775779e-01, -2.92870688e+00,\n",
       "        -1.40035748e-01, -3.05725634e-01, -3.05169940e-01,\n",
       "        -4.59547602e-02, -2.68554509e-01,  5.19448400e-01,\n",
       "         7.81532750e-02, -4.62616712e-01,  4.46443111e-01,\n",
       "        -3.94909322e-01, -1.10836543e-01,  9.87317860e-02,\n",
       "         1.21277392e-01,  6.17574334e-01,  5.80293059e-01,\n",
       "         5.79570174e-01, -1.70469105e-01,  3.34407151e-01,\n",
       "         6.63746417e-01, -1.29210681e-01, -2.65671760e-01,\n",
       "         1.06463060e-01,  3.34039539e-01,  3.61596107e-01,\n",
       "         3.89899999e-01, -3.13354790e-01, -1.33845191e-02,\n",
       "        -2.57219166e-01, -1.15883209e-01,  7.18221813e-03,\n",
       "         2.58169860e-01, -7.75786638e-02, -4.07573074e-01,\n",
       "        -3.29681307e-01, -4.54197854e-01, -9.05176178e-02,\n",
       "         1.31523028e-01,  7.22477317e-01,  6.45992719e-03,\n",
       "         3.50442439e-01,  1.01824224e+00, -1.89178079e-01,\n",
       "         5.37920713e-01,  7.63936400e-01,  2.23092481e-01,\n",
       "         8.47435951e-01,  3.60469818e-01,  2.72444457e-01,\n",
       "         4.08689111e-01, -1.46267757e-01, -1.72480077e-01,\n",
       "         1.23380423e+00,  6.26788139e-02, -2.67398003e-02,\n",
       "         8.28211680e-02,  5.85970104e-01,  1.59365207e-01,\n",
       "         1.04428962e-01,  1.93298832e-01,  6.81795895e-01,\n",
       "        -5.42501748e-01,  2.52588779e-01, -2.18816742e-01,\n",
       "        -3.90694439e-02, -6.00945055e-01,  4.47219163e-01,\n",
       "        -5.56633294e-01, -2.81768292e-01,  4.42543000e-01,\n",
       "        -7.28280917e-02,  6.67964935e-01,  5.15695065e-02,\n",
       "        -1.40439451e+00,  1.61557391e-01,  1.98610067e-01,\n",
       "        -4.14285690e-01,  2.11240113e-01,  3.52551997e-01,\n",
       "         1.64967105e-01, -5.23667037e-01, -4.76804793e-01,\n",
       "        -8.30880404e-01,  7.70274580e-01, -7.74213523e-02,\n",
       "        -1.84756413e-01,  4.07537334e-02, -2.38958463e-01,\n",
       "        -1.08971918e+00, -2.16384232e-01, -5.09434998e-01,\n",
       "         5.53642452e-01,  5.70761740e-01,  2.33857498e-01,\n",
       "        -2.53771812e-01,  1.24203689e-01,  9.37255502e-01,\n",
       "        -9.81829405e-01,  2.09357247e-01, -1.92780569e-01,\n",
       "        -8.64317045e-02, -4.21688348e-01,  1.43151030e-01,\n",
       "        -6.24540932e-02, -2.41360180e-02, -2.56352156e-01,\n",
       "        -4.17665064e-01, -3.98007572e-01, -2.65500247e-01,\n",
       "        -1.75524876e-01, -2.55553156e-01, -1.24306008e-01,\n",
       "        -8.77077039e-03,  3.78520072e-01,  3.63490194e-01,\n",
       "        -4.06811498e-02, -9.02917087e-02,  1.10543764e+00,\n",
       "         1.37071162e-01,  2.87660837e-01,  4.85717416e-01,\n",
       "         2.70680487e-01, -2.18468726e-01, -1.98533297e-01,\n",
       "        -2.35566407e-01, -3.37978005e-01,  3.22259337e-01,\n",
       "        -4.35193449e-01, -3.26713562e-01, -4.59474295e-01,\n",
       "         3.09157342e-01, -2.06879809e-01, -2.38532290e-01,\n",
       "        -3.80046993e-01,  5.06466627e-01, -4.48940843e-01,\n",
       "         8.56265500e-02,  3.32239926e-01,  3.20655286e-01,\n",
       "        -1.23174623e-01,  1.29377753e-01,  8.07586908e-02,\n",
       "        -3.79939020e-01,  3.63579214e-01, -1.06145171e-02,\n",
       "         6.22943640e-01, -2.03455359e-01,  2.93080453e-02,\n",
       "         1.77383721e-01,  3.95110399e-01,  2.17036128e-01,\n",
       "        -7.07331439e-03, -3.47165287e-01, -5.58175206e-01,\n",
       "         4.68837321e-01, -3.80276501e-01, -1.53536439e-01,\n",
       "        -1.42919466e-01,  3.11136901e-01, -3.76460820e-01,\n",
       "        -2.18139753e-01, -1.55661315e-01, -1.93726122e+00,\n",
       "         3.75580609e-01,  4.34640646e-01,  4.73234981e-01,\n",
       "         4.65014838e-02, -3.50756586e-01, -7.98474312e-01,\n",
       "         9.28576052e-01,  2.54797697e-01,  6.48063794e-02,\n",
       "        -3.77729356e-01, -5.30213974e-02,  1.26754135e-01,\n",
       "         3.66088241e-01,  2.81074554e-01,  1.25493005e-01,\n",
       "         2.98864871e-01, -1.64779037e-01, -1.22951530e-01,\n",
       "        -5.76453447e-01, -1.77258611e-01,  7.10656822e-01,\n",
       "         4.47484970e-01, -4.51806188e-01, -1.51055336e-01,\n",
       "        -1.85133711e-01, -2.02491656e-02,  2.53672481e-01,\n",
       "         1.72581911e-01,  2.35845581e-01, -3.04461390e-01,\n",
       "        -6.35812700e-01, -6.95516944e-01, -2.33012196e-02,\n",
       "         3.12943548e-01,  3.50968599e-01,  9.79359075e-02,\n",
       "        -5.55667102e-01,  7.91602373e-01,  4.07141775e-01,\n",
       "        -5.58865964e-01,  6.12828910e-01,  2.48429567e-01,\n",
       "         4.74404097e-01,  1.80256277e-01,  7.33735859e-01,\n",
       "        -5.72899938e-01,  2.12326616e-01, -9.10727009e-02,\n",
       "        -4.97934192e-01, -4.55406010e-01, -8.46144080e-01,\n",
       "        -3.88678730e-01, -1.31811336e-01,  8.82768631e-02,\n",
       "         5.21104271e-03,  1.37500003e-01,  4.65369001e-02,\n",
       "        -6.61956251e-01,  8.65776092e-02, -6.88066259e-02,\n",
       "        -3.34682018e-01, -4.71501440e-01, -7.19528615e-01,\n",
       "        -2.49208733e-01, -8.45071256e-01,  8.53600278e-02,\n",
       "        -6.27322316e-01, -7.67593205e-01,  1.34450346e-02,\n",
       "         7.06345022e-01, -3.91893135e-03, -3.63622665e-01,\n",
       "         1.98299974e-01, -6.75183177e-01,  5.61371088e-01,\n",
       "         7.68908337e-02, -2.02801526e-01,  1.20491080e-01,\n",
       "        -4.37616765e-01,  2.51235127e-01, -5.18303335e-01,\n",
       "        -6.02697849e-01,  4.07919019e-01, -5.78787684e-01,\n",
       "         3.57927114e-01, -2.80320257e-01, -1.34747177e-01,\n",
       "        -1.77532777e-01, -2.52171248e-01, -2.51734942e-01,\n",
       "        -6.79030120e-01,  7.46243298e-02,  1.11392345e-02,\n",
       "        -3.46630871e-01, -1.56046048e-01, -2.72151142e-01,\n",
       "         1.38132319e-01,  2.00991362e-01,  4.05043632e-01,\n",
       "        -2.70118684e-01,  5.76794088e-01,  7.86973178e-01,\n",
       "         6.55233800e-01,  1.45670339e-01, -1.30781621e-01,\n",
       "         4.83080566e-01,  1.27875373e-01, -1.13449961e-01,\n",
       "        -1.62806138e-01, -3.67501408e-01, -1.68942675e-01,\n",
       "        -9.75622237e-02, -1.17307544e-01,  2.74672210e-01,\n",
       "        -5.39861739e-01,  1.87459737e-01, -4.71669376e-01,\n",
       "         2.03305602e+00,  3.66453797e-01,  5.44823170e-01,\n",
       "         2.07703948e-01,  1.64459720e-01, -2.08546340e-01,\n",
       "        -5.14517546e-01,  2.75199383e-01, -2.40563244e-01,\n",
       "         6.13296688e-01, -3.85685205e-01,  3.84653866e-01,\n",
       "        -4.37171429e-01,  1.69830117e-02,  1.86872408e-01,\n",
       "         6.63219035e-01, -1.65333003e-01, -4.94147778e-01,\n",
       "        -6.91441178e-01,  4.00058329e-01, -3.57076377e-02,\n",
       "         1.00133479e+00,  5.71129560e-01,  4.28869501e-02,\n",
       "         5.93334973e-01,  9.48063016e-01, -3.01020890e-02,\n",
       "        -3.02536517e-01,  1.99828222e-01,  2.54041970e-01,\n",
       "        -3.65941882e-01,  7.12448955e-02,  6.81828260e-02,\n",
       "         6.47017419e-01, -3.26247871e-01, -1.61299452e-01,\n",
       "        -5.89186668e-01, -1.05489723e-01, -4.23005559e-02,\n",
       "         1.34799302e-01,  4.53419447e-01, -8.12128484e-01,\n",
       "         9.18825269e-01, -1.52647914e-02, -3.62748384e-01,\n",
       "         8.02458882e-01, -4.41132039e-01, -4.65703577e-01,\n",
       "         8.83114874e-01,  6.45045877e-01,  3.60700965e-01,\n",
       "         1.58845574e-01, -4.27517861e-01,  2.19148308e-01,\n",
       "        -3.90528768e-01, -6.58205748e-02, -6.12831349e-03,\n",
       "         3.43271829e-02, -6.20815516e-01,  1.59464106e-01,\n",
       "         2.73284554e-01,  3.32256973e-01,  7.13000357e-01,\n",
       "        -5.54892659e-01, -1.76593941e-02,  5.62136844e-02,\n",
       "        -6.52892709e-01,  3.47059935e-01, -1.33819133e-02,\n",
       "         1.58176512e-01, -1.30159825e-01,  2.81719297e-01,\n",
       "         2.78672457e-01,  5.02767801e-01,  1.76052228e-01,\n",
       "         7.26051331e-02,  4.75447923e-01,  1.67048007e-01,\n",
       "        -5.92483819e-01, -2.20021057e+00,  1.21743105e-01,\n",
       "         2.17772260e-01,  5.25801539e-01, -1.14245735e-01,\n",
       "         3.48176211e-01,  3.31151068e-01,  3.90229151e-02,\n",
       "         3.32599044e-01,  3.97340298e-01,  5.04359245e-01,\n",
       "         1.47301063e-01,  7.36033499e-01, -1.62483081e-02,\n",
       "        -2.05177069e-01,  5.77365518e-01, -9.31490387e-04,\n",
       "        -3.29854041e-01, -1.75219700e-01, -1.80635273e-01,\n",
       "         3.16014528e-01,  5.56117371e-02, -7.55870119e-02,\n",
       "        -6.84527278e-01, -4.27298009e-01, -4.11850065e-01,\n",
       "        -1.34848133e-01, -5.20972908e-01,  1.30502149e-01,\n",
       "         1.02980351e+00, -7.13169396e-01,  3.81340265e-01,\n",
       "         4.69243573e-03,  3.14834505e-01,  2.23280489e-01,\n",
       "        -4.40385371e-01, -2.71334941e-03,  4.23014760e-01,\n",
       "         6.43199384e-01,  6.38312995e-02, -7.05500126e-01,\n",
       "         3.88526410e-01, -2.00258553e-01,  1.98387191e-01,\n",
       "        -2.23561138e-01, -2.48331651e-01,  9.25215483e-01,\n",
       "        -2.37785041e-01,  8.32183063e-01, -9.53130201e-02,\n",
       "        -1.68292284e-01,  1.01657212e-01,  5.32557845e-01,\n",
       "        -5.64641804e-02,  1.98689237e-01,  3.86499465e-01,\n",
       "         1.08202982e+00, -1.22770712e-01, -7.69655257e-02,\n",
       "        -3.93878520e-01,  3.19062695e-02,  4.04576540e-01,\n",
       "        -1.03575557e-01,  5.86806178e-01,  3.89909804e-01,\n",
       "        -2.10341364e-01, -2.43314698e-01,  1.00892842e-01,\n",
       "         1.74355954e-01, -4.49920505e-01, -3.70682210e-01,\n",
       "        -2.78687179e-01,  1.75301939e-01,  3.46024305e-01,\n",
       "        -2.73152709e-01,  3.75715107e-01,  3.88555050e-01,\n",
       "        -1.11093752e-01,  3.42850029e-01,  6.30314052e-02,\n",
       "        -4.03788924e-01, -6.34016812e-01, -1.60495877e-01,\n",
       "         1.73195377e-01,  3.00316215e-01, -6.32734823e+00,\n",
       "        -4.20669496e-01, -4.44024533e-01, -5.14476061e-01,\n",
       "         6.54878616e-02, -2.91354835e-01,  3.14790964e-01,\n",
       "        -5.43112941e-02, -2.43057624e-01,  1.96144417e-01,\n",
       "        -1.64522952e-03,  1.77973241e-01, -4.68656063e-01,\n",
       "        -2.95409977e-01,  1.44808754e-01,  4.04598147e-01]], dtype=float32)"
      ]
     },
     "execution_count": 100,
     "metadata": {},
     "output_type": "execute_result"
    }
   ],
   "source": [
    "query_embedding = get_embeddings(bert_model, bert_tokenizer, query_text)\n",
    "query_embedding"
   ]
  },
  {
   "cell_type": "code",
   "execution_count": 0,
   "metadata": {
    "application/vnd.databricks.v1+cell": {
     "cellMetadata": {
      "byteLimit": 2048000,
      "rowLimit": 10000
     },
     "inputWidgets": {},
     "nuid": "03304ae1-02fa-4bde-8f52-1bcbbaf8af5d",
     "showTitle": false,
     "title": ""
    }
   },
   "outputs": [],
   "source": [
    "# Normalize the query embedding\n",
    "query_embedding_norm = query_embedding / np.linalg.norm(query_embedding)"
   ]
  },
  {
   "cell_type": "markdown",
   "metadata": {
    "application/vnd.databricks.v1+cell": {
     "cellMetadata": {},
     "inputWidgets": {},
     "nuid": "8f0814cf-b78f-472e-abb7-eda0aad46a89",
     "showTitle": false,
     "title": ""
    }
   },
   "source": [
    "![cosine similarity](https://i.stack.imgur.com/ewM2b.png \"cosine similarity\")"
   ]
  },
  {
   "cell_type": "code",
   "execution_count": 0,
   "metadata": {
    "application/vnd.databricks.v1+cell": {
     "cellMetadata": {
      "byteLimit": 2048000,
      "rowLimit": 10000
     },
     "inputWidgets": {},
     "nuid": "635608fb-9765-4875-8917-45d362fa71df",
     "showTitle": false,
     "title": ""
    }
   },
   "outputs": [],
   "source": [
    "# Calculate cosine similarities\n",
    "cosine_similarities = []\n",
    "for cls_embedding in passage_embeddings:\n",
    "    # Normalize the CLS token embedding\n",
    "    cls_embedding_norm = cls_embedding / np.linalg.norm(cls_embedding)\n",
    "    \n",
    "    # Convert query_embedding to a 1D vector and normalize it\n",
    "    query_embedding_norm_1d = query_embedding_norm.ravel() / np.linalg.norm(query_embedding_norm.ravel())\n",
    "    \n",
    "    # Convert cls_embedding to a 1D vector and normalize it\n",
    "    cls_embedding_norm_1d = cls_embedding_norm.ravel()\n",
    "    \n",
    "    # Compute the cosine similarity\n",
    "    similarity = 1 - cosine(query_embedding_norm_1d, cls_embedding_norm_1d)\n",
    "    cosine_similarities.append(similarity)"
   ]
  },
  {
   "cell_type": "code",
   "execution_count": 0,
   "metadata": {
    "application/vnd.databricks.v1+cell": {
     "cellMetadata": {
      "byteLimit": 2048000,
      "rowLimit": 10000
     },
     "inputWidgets": {},
     "nuid": "434b6917-755c-4cb6-a913-0f76597c2efe",
     "showTitle": false,
     "title": ""
    }
   },
   "outputs": [
    {
     "output_type": "execute_result",
     "data": {
      "text/plain": [
       "'Transforming data to prepare it for downstream analysis is a prerequisite for most other workloads on the Databricks platform. While SQL and DataFrames make it relatively easy for users to express their transformations, the input data constantly changes. This requires recomputation of the tables produced by ETL. Recomputing the results from scratch is simple, but often cost-prohibitive at the scale many of our customers operate. We are pleased to announce that we are developing project Enzyme, a new optimization layer for ETL. Enzyme efficiently keeps up-to-date a materialization of the results of a given query stored in a Delta table. It uses a cost model to choose between various techniques, including techniques used in traditional materialized views, delta-to-delta streaming, and manual ETL patterns commonly used by our customers.'"
      ]
     },
     "execution_count": 104,
     "metadata": {},
     "output_type": "execute_result"
    }
   ],
   "source": [
    "relevant_context = source_passages[cosine_similarities.index(max(cosine_similarities))]\n",
    "relevant_context"
   ]
  },
  {
   "cell_type": "code",
   "execution_count": 0,
   "metadata": {
    "application/vnd.databricks.v1+cell": {
     "cellMetadata": {
      "byteLimit": 2048000,
      "rowLimit": 10000
     },
     "inputWidgets": {},
     "nuid": "884b22e8-54fd-455d-8813-ccd08ee5b310",
     "showTitle": false,
     "title": ""
    }
   },
   "outputs": [
    {
     "output_type": "stream",
     "name": "stdout",
     "output_type": "stream",
     "text": [
      "Given the following context\n\n  Transforming data to prepare it for downstream analysis is a prerequisite for most other workloads on the Databricks platform. While SQL and DataFrames make it relatively easy for users to express their transformations, the input data constantly changes. This requires recomputation of the tables produced by ETL. Recomputing the results from scratch is simple, but often cost-prohibitive at the scale many of our customers operate.\n\nWe are pleased to announce that we are developing project Enzyme, a new optimization layer for ETL. Enzyme efficiently keeps up-to-date a materialization of the results of a given query stored in a Delta table. It uses a cost model to choose between various techniques, including techniques used in traditional materialized views, delta-to-delta streaming, and manual ETL patterns commonly used by our customers.\n\n  given the above context,\n\n  Write an email informing a customer about Enzyme in DLT. Be Concise [/INST]\n  \n"
     ]
    }
   ],
   "source": [
    "formatted_text = formatted_text.format(context = relevant_context, user_message = user_message)\n",
    "print(formatted_text)"
   ]
  },
  {
   "cell_type": "code",
   "execution_count": 0,
   "metadata": {
    "application/vnd.databricks.v1+cell": {
     "cellMetadata": {
      "byteLimit": 2048000,
      "rowLimit": 10000
     },
     "inputWidgets": {},
     "nuid": "c0ae44ad-9fea-448b-ad7a-3ce55a961734",
     "showTitle": false,
     "title": ""
    }
   },
   "outputs": [
    {
     "output_type": "stream",
     "name": "stdout",
     "output_type": "stream",
     "text": [
      "Subject: Introducing Project Enzyme: Optimizing ETL on Databricks\n\nDear [Customer],\n\nI hope this email finds you well. I am excited to share some news about an upcoming project on the Databricks platform that I believe could greatly benefit your data processing needs.\n\nProject Enzyme is a new optimization layer for ETL (Extract, Transform, Load) that aims to efficiently maintain up-to-date materializations of query results stored in Delta tables. By utilizing a cost model, Enzyme will choose the most efficient technique for your specific use case, including traditional materialized view techniques, delta-to-delta streaming, and manual ETL patterns commonly used by our customers.\n\nThis new feature will help reduce the cost of recomputing tables produced by ETL, especially when dealing with constantly changing input data. By automating and optimizing these processes, Project Enzyme will enable you to focus more on your data analysis and less on the technical aspects of data transformation.\n\nWe are currently developing Project Enzyme and will keep you updated on its progress. If you have any questions or would like to learn more about this project, please don't hesitate to reach out.\n\nBest regards,\n\n[Your Name]\n[Your Position]\nDatabricks\n"
     ]
    }
   ],
   "source": [
    "output = generate(dbrx_url, databricks_token, system_prompt, formatted_text)\n",
    "print(output)"
   ]
  }
 ],
 "metadata": {
  "application/vnd.databricks.v1+notebook": {
   "dashboards": [],
   "language": "python",
   "notebookMetadata": {
    "pythonIndentUnit": 2
   },
   "notebookName": "How we got here: Evolution of LLMs",
   "widgets": {}
  }
 },
 "nbformat": 4,
 "nbformat_minor": 0
}
